{
 "cells": [
  {
   "cell_type": "code",
   "execution_count": 7,
   "id": "eb310813",
   "metadata": {},
   "outputs": [
    {
     "name": "stdout",
     "output_type": "stream",
     "text": [
      "Defaulting to user installation because normal site-packages is not writeable\n",
      "Requirement already satisfied: pandas in /Users/matthewsimon/Library/Python/3.9/lib/python/site-packages (2.3.1)\n",
      "Requirement already satisfied: numpy>=1.22.4 in /Users/matthewsimon/Library/Python/3.9/lib/python/site-packages (from pandas) (2.0.2)\n",
      "Requirement already satisfied: tzdata>=2022.7 in /Users/matthewsimon/Library/Python/3.9/lib/python/site-packages (from pandas) (2025.2)\n",
      "Requirement already satisfied: pytz>=2020.1 in /Users/matthewsimon/Library/Python/3.9/lib/python/site-packages (from pandas) (2025.2)\n",
      "Requirement already satisfied: python-dateutil>=2.8.2 in /Users/matthewsimon/Library/Python/3.9/lib/python/site-packages (from pandas) (2.9.0.post0)\n",
      "Requirement already satisfied: six>=1.5 in /Library/Developer/CommandLineTools/Library/Frameworks/Python3.framework/Versions/3.9/lib/python3.9/site-packages (from python-dateutil>=2.8.2->pandas) (1.15.0)\n",
      "Requirement already satisfied: numpy>=1.22.4 in /Users/matthewsimon/Library/Python/3.9/lib/python/site-packages (from pandas) (2.0.2)\n",
      "Requirement already satisfied: tzdata>=2022.7 in /Users/matthewsimon/Library/Python/3.9/lib/python/site-packages (from pandas) (2025.2)\n",
      "Requirement already satisfied: pytz>=2020.1 in /Users/matthewsimon/Library/Python/3.9/lib/python/site-packages (from pandas) (2025.2)\n",
      "Requirement already satisfied: python-dateutil>=2.8.2 in /Users/matthewsimon/Library/Python/3.9/lib/python/site-packages (from pandas) (2.9.0.post0)\n",
      "Requirement already satisfied: six>=1.5 in /Library/Developer/CommandLineTools/Library/Frameworks/Python3.framework/Versions/3.9/lib/python3.9/site-packages (from python-dateutil>=2.8.2->pandas) (1.15.0)\n",
      "\u001b[33mWARNING: You are using pip version 21.2.4; however, version 25.1.1 is available.\n",
      "You should consider upgrading via the '/Library/Developer/CommandLineTools/usr/bin/python3 -m pip install --upgrade pip' command.\u001b[0m\n",
      "\u001b[33mWARNING: You are using pip version 21.2.4; however, version 25.1.1 is available.\n",
      "You should consider upgrading via the '/Library/Developer/CommandLineTools/usr/bin/python3 -m pip install --upgrade pip' command.\u001b[0m\n",
      "Note: you may need to restart the kernel to use updated packages.\n",
      "Note: you may need to restart the kernel to use updated packages.\n"
     ]
    }
   ],
   "source": [
    "%pip install pandas"
   ]
  },
  {
   "cell_type": "code",
   "execution_count": 8,
   "id": "7f6c5523",
   "metadata": {},
   "outputs": [],
   "source": [
    "import pandas as pd\n",
    "import numpy as np"
   ]
  },
  {
   "cell_type": "code",
   "execution_count": 9,
   "id": "6bdde03d",
   "metadata": {},
   "outputs": [
    {
     "data": {
      "text/html": [
       "<div>\n",
       "<style scoped>\n",
       "    .dataframe tbody tr th:only-of-type {\n",
       "        vertical-align: middle;\n",
       "    }\n",
       "\n",
       "    .dataframe tbody tr th {\n",
       "        vertical-align: top;\n",
       "    }\n",
       "\n",
       "    .dataframe thead th {\n",
       "        text-align: right;\n",
       "    }\n",
       "</style>\n",
       "<table border=\"1\" class=\"dataframe\">\n",
       "  <thead>\n",
       "    <tr style=\"text-align: right;\">\n",
       "      <th></th>\n",
       "      <th>full_date</th>\n",
       "      <th>date</th>\n",
       "      <th>weekday</th>\n",
       "      <th>time</th>\n",
       "      <th>sub_mood</th>\n",
       "      <th>activities</th>\n",
       "      <th>mood</th>\n",
       "    </tr>\n",
       "  </thead>\n",
       "  <tbody>\n",
       "    <tr>\n",
       "      <th>0</th>\n",
       "      <td>16/04/2021</td>\n",
       "      <td>Apr-16</td>\n",
       "      <td>Friday</td>\n",
       "      <td>8:00 pm</td>\n",
       "      <td>yolo</td>\n",
       "      <td>reading | Art | prayer | fasting  | walk | med...</td>\n",
       "      <td>Good</td>\n",
       "    </tr>\n",
       "    <tr>\n",
       "      <th>1</th>\n",
       "      <td>15/04/2021</td>\n",
       "      <td>Apr-15</td>\n",
       "      <td>Thursday</td>\n",
       "      <td>2:37 am</td>\n",
       "      <td>focused</td>\n",
       "      <td>reading | learning  | Art | prayer | fasting  ...</td>\n",
       "      <td>Good</td>\n",
       "    </tr>\n",
       "    <tr>\n",
       "      <th>2</th>\n",
       "      <td>14/04/2021</td>\n",
       "      <td>Apr-14</td>\n",
       "      <td>Wednesday</td>\n",
       "      <td>2:39 am</td>\n",
       "      <td>confused</td>\n",
       "      <td>reading | learning  | prayer | fasting  | Qura...</td>\n",
       "      <td>Normal</td>\n",
       "    </tr>\n",
       "    <tr>\n",
       "      <th>3</th>\n",
       "      <td>13/04/2021</td>\n",
       "      <td>Apr-13</td>\n",
       "      <td>Tuesday</td>\n",
       "      <td>2:38 am</td>\n",
       "      <td>wondering</td>\n",
       "      <td>reading | learning  | Art | prayer | fasting  ...</td>\n",
       "      <td>Normal</td>\n",
       "    </tr>\n",
       "    <tr>\n",
       "      <th>4</th>\n",
       "      <td>12/04/2021</td>\n",
       "      <td>Apr-12</td>\n",
       "      <td>Monday</td>\n",
       "      <td>9:52 pm</td>\n",
       "      <td>angry</td>\n",
       "      <td>reading | learning  | fasting  | walk | medita...</td>\n",
       "      <td>Awful</td>\n",
       "    </tr>\n",
       "  </tbody>\n",
       "</table>\n",
       "</div>"
      ],
      "text/plain": [
       "    full_date    date    weekday     time   sub_mood  \\\n",
       "0  16/04/2021  Apr-16     Friday  8:00 pm       yolo   \n",
       "1  15/04/2021  Apr-15   Thursday  2:37 am   focused    \n",
       "2  14/04/2021  Apr-14  Wednesday  2:39 am  confused    \n",
       "3  13/04/2021  Apr-13    Tuesday  2:38 am  wondering   \n",
       "4  12/04/2021  Apr-12     Monday  9:52 pm      angry   \n",
       "\n",
       "                                          activities    mood  \n",
       "0  reading | Art | prayer | fasting  | walk | med...    Good  \n",
       "1  reading | learning  | Art | prayer | fasting  ...    Good  \n",
       "2  reading | learning  | prayer | fasting  | Qura...  Normal  \n",
       "3  reading | learning  | Art | prayer | fasting  ...  Normal  \n",
       "4  reading | learning  | fasting  | walk | medita...   Awful  "
      ]
     },
     "execution_count": 9,
     "metadata": {},
     "output_type": "execute_result"
    }
   ],
   "source": [
    "csv_path = \"/Users/matthewsimon/Projects/solopro/test/Daylio_Abid.csv\"\n",
    "df = pd.read_csv(csv_path)\n",
    "\n",
    "# Quick peek at the data\n",
    "df.head()"
   ]
  },
  {
   "cell_type": "code",
   "execution_count": 10,
   "id": "9c681fe7",
   "metadata": {},
   "outputs": [
    {
     "name": "stdout",
     "output_type": "stream",
     "text": [
      "Dataset info:\n",
      "Total rows: 940\n",
      "Date range: 01/01/2019 to 31/12/2020\n",
      "Unique dates: 775\n",
      "\n",
      "DateTime range: 2018-02-03 00:00:00 to 2021-04-16 00:00:00\n"
     ]
    }
   ],
   "source": [
    "# Let's examine the date range in our dataset\n",
    "print(\"Dataset info:\")\n",
    "print(f\"Total rows: {len(df)}\")\n",
    "print(f\"Date range: {df['full_date'].min()} to {df['full_date'].max()}\")\n",
    "print(f\"Unique dates: {df['full_date'].nunique()}\")\n",
    "\n",
    "# Convert full_date to datetime for easier filtering\n",
    "df['full_date_dt'] = pd.to_datetime(df['full_date'], format='%d/%m/%Y')\n",
    "\n",
    "print(f\"\\nDateTime range: {df['full_date_dt'].min()} to {df['full_date_dt'].max()}\")"
   ]
  },
  {
   "cell_type": "code",
   "execution_count": 11,
   "id": "167ec4d6",
   "metadata": {},
   "outputs": [
    {
     "name": "stdout",
     "output_type": "stream",
     "text": [
      "Filtered dataset info:\n",
      "Original rows: 940\n",
      "Filtered rows: 372\n",
      "Filtered date range: 01/01/2021 to 31/12/2020\n",
      "Filtered datetime range: 2020-04-16 00:00:00 to 2021-04-16 00:00:00\n",
      "\n",
      "First 5 rows of filtered data:\n"
     ]
    },
    {
     "data": {
      "text/html": [
       "<div>\n",
       "<style scoped>\n",
       "    .dataframe tbody tr th:only-of-type {\n",
       "        vertical-align: middle;\n",
       "    }\n",
       "\n",
       "    .dataframe tbody tr th {\n",
       "        vertical-align: top;\n",
       "    }\n",
       "\n",
       "    .dataframe thead th {\n",
       "        text-align: right;\n",
       "    }\n",
       "</style>\n",
       "<table border=\"1\" class=\"dataframe\">\n",
       "  <thead>\n",
       "    <tr style=\"text-align: right;\">\n",
       "      <th></th>\n",
       "      <th>full_date</th>\n",
       "      <th>date</th>\n",
       "      <th>weekday</th>\n",
       "      <th>time</th>\n",
       "      <th>sub_mood</th>\n",
       "      <th>activities</th>\n",
       "      <th>mood</th>\n",
       "      <th>full_date_dt</th>\n",
       "    </tr>\n",
       "  </thead>\n",
       "  <tbody>\n",
       "    <tr>\n",
       "      <th>0</th>\n",
       "      <td>16/04/2021</td>\n",
       "      <td>Apr-16</td>\n",
       "      <td>Friday</td>\n",
       "      <td>8:00 pm</td>\n",
       "      <td>yolo</td>\n",
       "      <td>reading | Art | prayer | fasting  | walk | med...</td>\n",
       "      <td>Good</td>\n",
       "      <td>2021-04-16</td>\n",
       "    </tr>\n",
       "    <tr>\n",
       "      <th>1</th>\n",
       "      <td>15/04/2021</td>\n",
       "      <td>Apr-15</td>\n",
       "      <td>Thursday</td>\n",
       "      <td>2:37 am</td>\n",
       "      <td>focused</td>\n",
       "      <td>reading | learning  | Art | prayer | fasting  ...</td>\n",
       "      <td>Good</td>\n",
       "      <td>2021-04-15</td>\n",
       "    </tr>\n",
       "    <tr>\n",
       "      <th>2</th>\n",
       "      <td>14/04/2021</td>\n",
       "      <td>Apr-14</td>\n",
       "      <td>Wednesday</td>\n",
       "      <td>2:39 am</td>\n",
       "      <td>confused</td>\n",
       "      <td>reading | learning  | prayer | fasting  | Qura...</td>\n",
       "      <td>Normal</td>\n",
       "      <td>2021-04-14</td>\n",
       "    </tr>\n",
       "    <tr>\n",
       "      <th>3</th>\n",
       "      <td>13/04/2021</td>\n",
       "      <td>Apr-13</td>\n",
       "      <td>Tuesday</td>\n",
       "      <td>2:38 am</td>\n",
       "      <td>wondering</td>\n",
       "      <td>reading | learning  | Art | prayer | fasting  ...</td>\n",
       "      <td>Normal</td>\n",
       "      <td>2021-04-13</td>\n",
       "    </tr>\n",
       "    <tr>\n",
       "      <th>4</th>\n",
       "      <td>12/04/2021</td>\n",
       "      <td>Apr-12</td>\n",
       "      <td>Monday</td>\n",
       "      <td>9:52 pm</td>\n",
       "      <td>angry</td>\n",
       "      <td>reading | learning  | fasting  | walk | medita...</td>\n",
       "      <td>Awful</td>\n",
       "      <td>2021-04-12</td>\n",
       "    </tr>\n",
       "  </tbody>\n",
       "</table>\n",
       "</div>"
      ],
      "text/plain": [
       "    full_date    date    weekday     time   sub_mood  \\\n",
       "0  16/04/2021  Apr-16     Friday  8:00 pm       yolo   \n",
       "1  15/04/2021  Apr-15   Thursday  2:37 am   focused    \n",
       "2  14/04/2021  Apr-14  Wednesday  2:39 am  confused    \n",
       "3  13/04/2021  Apr-13    Tuesday  2:38 am  wondering   \n",
       "4  12/04/2021  Apr-12     Monday  9:52 pm      angry   \n",
       "\n",
       "                                          activities    mood full_date_dt  \n",
       "0  reading | Art | prayer | fasting  | walk | med...    Good   2021-04-16  \n",
       "1  reading | learning  | Art | prayer | fasting  ...    Good   2021-04-15  \n",
       "2  reading | learning  | prayer | fasting  | Qura...  Normal   2021-04-14  \n",
       "3  reading | learning  | Art | prayer | fasting  ...  Normal   2021-04-13  \n",
       "4  reading | learning  | fasting  | walk | medita...   Awful   2021-04-12  "
      ]
     },
     "execution_count": 11,
     "metadata": {},
     "output_type": "execute_result"
    }
   ],
   "source": [
    "# Filter data from 16/04/2020 through 16/04/2021\n",
    "start_date = pd.to_datetime('16/04/2020', format='%d/%m/%Y')\n",
    "end_date = pd.to_datetime('16/04/2021', format='%d/%m/%Y')\n",
    "\n",
    "# Create the filtered dataframe\n",
    "df_filtered = df[(df['full_date_dt'] >= start_date) & (df['full_date_dt'] <= end_date)]\n",
    "\n",
    "print(f\"Filtered dataset info:\")\n",
    "print(f\"Original rows: {len(df)}\")\n",
    "print(f\"Filtered rows: {len(df_filtered)}\")\n",
    "print(f\"Filtered date range: {df_filtered['full_date'].min()} to {df_filtered['full_date'].max()}\")\n",
    "print(f\"Filtered datetime range: {df_filtered['full_date_dt'].min()} to {df_filtered['full_date_dt'].max()}\")\n",
    "\n",
    "# Display first few rows of filtered data\n",
    "print(f\"\\nFirst 5 rows of filtered data:\")\n",
    "df_filtered.head()"
   ]
  },
  {
   "cell_type": "code",
   "execution_count": 13,
   "id": "2b367b8f",
   "metadata": {},
   "outputs": [
    {
     "name": "stdout",
     "output_type": "stream",
     "text": [
      "✅ Dataset successfully filtered!\n",
      "Working with 372 rows from 01/01/2021 to 31/12/2020\n",
      "Date range: 16/04/2020 to 16/04/2021\n",
      "\n",
      "Your filtered dataset is now ready for analysis!\n"
     ]
    }
   ],
   "source": [
    "# Replace the original dataframe with the filtered one\n",
    "df = df_filtered.copy()\n",
    "\n",
    "# Optional: Remove the temporary datetime column if you don't need it\n",
    "# df = df.drop('full_date_dt', axis=1)\n",
    "\n",
    "print(f\"✅ Dataset successfully filtered!\")\n",
    "print(f\"Working with {len(df)} rows from {df['full_date'].min()} to {df['full_date'].max()}\")\n",
    "print(f\"Date range: {df['full_date_dt'].min().strftime('%d/%m/%Y')} to {df['full_date_dt'].max().strftime('%d/%m/%Y')}\")\n",
    "print(f\"\\nYour filtered dataset is now ready for analysis!\")"
   ]
  },
  {
   "cell_type": "code",
   "execution_count": 14,
   "id": "1ae46a35",
   "metadata": {},
   "outputs": [
    {
     "name": "stdout",
     "output_type": "stream",
     "text": [
      "Unique moods:\n",
      "['Good' 'Normal' 'Awful' 'Amazing' 'Bad']\n",
      "\n",
      "Mood distribution:\n",
      "mood\n",
      "Good       183\n",
      "Normal      84\n",
      "Amazing     60\n",
      "Bad         23\n",
      "Awful       22\n",
      "Name: count, dtype: int64\n",
      "\n",
      "Unique sub_moods (first 20):\n",
      "['yolo' 'focused ' 'confused ' 'wondering' 'angry' 'blessed ' 'excited '\n",
      " 'Chill' 'hungry ' 'happiest day' 'weak' 'meh' 'awful' 'Cool' 'worried '\n",
      " 'over the moon ' 'triggered ' 'sad af' 'scared ' 'good']\n",
      "\n",
      "Sample activities (first 5 rows):\n",
      "Row 0: reading | Art | prayer | fasting  | walk | meditation  | shower | writing | Watching series  | good meal | reddit | language learning  | streaming  | youtube | cooking | travel | cleaning | new things  | power nap | Documentary  | penpal | coding \n",
      "Row 1: reading | learning  | Art | prayer | fasting  | walk | meditation  | shower | Audio books  | writing | Watching series  | good meal | reddit | language learning  | shave  | streaming  | youtube | cooking | cleaning | research  | new things  | power nap | repair | Documentary  | penpal | coding  | Tutorial \n",
      "Row 2: reading | learning  | prayer | fasting  | Quran  | walk | meditation  | shower | podcast | Audio books  | writing | Watching series  | good meal | reddit | language learning  | streaming  | youtube | cooking | research  | new things  | designing  | repair | Documentary  | penpal | coding  | Tutorial \n",
      "Row 3: reading | learning  | Art | prayer | fasting  | walk | meditation  | Audio books  | writing | Watching series  | News Update | good meal | reddit | language learning  | shave  | streaming  | youtube | cooking | research  | new things  | power nap | Documentary  | penpal | coding  | Tutorial \n",
      "Row 4: reading | learning  | fasting  | walk | meditation  | shower | writing | Watching series  | good meal | reddit | language learning  | streaming  | youtube | cooking | cleaning | research  | new things  | power nap | Documentary  | penpal | coding  | Tutorial \n"
     ]
    }
   ],
   "source": [
    "# Let's first examine the unique values in our key columns to understand the data better\n",
    "print(\"Unique moods:\")\n",
    "print(df['mood'].unique())\n",
    "print(f\"\\nMood distribution:\")\n",
    "print(df['mood'].value_counts())\n",
    "\n",
    "print(f\"\\nUnique sub_moods (first 20):\")\n",
    "print(df['sub_mood'].unique()[:20])\n",
    "\n",
    "print(f\"\\nSample activities (first 5 rows):\")\n",
    "for i in range(5):\n",
    "    print(f\"Row {i}: {df.iloc[i]['activities']}\")"
   ]
  },
  {
   "cell_type": "code",
   "execution_count": 15,
   "id": "2b5aa4ff",
   "metadata": {},
   "outputs": [
    {
     "name": "stdout",
     "output_type": "stream",
     "text": [
      "Creating daily summaries...\n",
      "✅ Summary column added!\n",
      "\n",
      "Sample summaries:\n",
      "\n",
      "Row 1 (16/04/2021):\n",
      "Mood: Good | Sub-mood: yolo\n",
      "Summary: Good Friday. I focused on spiritual practices, dove deep into learning, explored creative pursuits, prioritized self-care, and enjoyed some entertainment. Living life to the fullest!\n",
      "Length: 182 characters\n",
      "\n",
      "Row 2 (15/04/2021):\n",
      "Mood: Good | Sub-mood: focused \n",
      "Summary: Good Thursday. I focused on spiritual practices, dove deep into learning, explored creative pursuits, prioritized self-care, and enjoyed some entertainment. Feeling focused. Late night reflections.\n",
      "Length: 197 characters\n",
      "\n",
      "Row 3 (14/04/2021):\n",
      "Mood: Normal | Sub-mood: confused \n",
      "Summary: Regular Wednesday. I focused on spiritual practices, dove deep into learning, explored creative pursuits, prioritized self-care, and enjoyed some entertainment. Though feeling confused. Late night reflections.\n",
      "Length: 209 characters\n"
     ]
    }
   ],
   "source": [
    "def create_daily_summary(row):\n",
    "    \"\"\"\n",
    "    Create a tweet-style daily summary (~250 chars) based on mood, sub_mood, activities, and time\n",
    "    \"\"\"\n",
    "    date = row['date']\n",
    "    weekday = row['weekday'] \n",
    "    time = row['time']\n",
    "    mood = row['mood']\n",
    "    sub_mood = row['sub_mood'].strip()\n",
    "    activities = row['activities']\n",
    "    \n",
    "    # Parse activities (they're separated by |)\n",
    "    activity_list = [act.strip() for act in activities.split('|') if act.strip()]\n",
    "    \n",
    "    # Group similar activities for more natural summaries\n",
    "    spiritual = [act for act in activity_list if any(word in act.lower() for word in ['prayer', 'fasting', 'quran', 'meditation'])]\n",
    "    learning = [act for act in activity_list if any(word in act.lower() for word in ['reading', 'learning', 'coding', 'language', 'tutorial', 'documentary'])]\n",
    "    creative = [act for act in activity_list if any(word in act.lower() for word in ['art', 'writing', 'designing', 'cooking'])]\n",
    "    wellness = [act for act in activity_list if any(word in act.lower() for word in ['walk', 'shower', 'sleep', 'power nap', 'good meal'])]\n",
    "    entertainment = [act for act in activity_list if any(word in act.lower() for word in ['watching', 'series', 'youtube', 'streaming', 'reddit', 'podcast'])]\n",
    "    \n",
    "    # Start building the summary\n",
    "    summary_parts = []\n",
    "    \n",
    "    # Add a mood-based opening\n",
    "    mood_intros = {\n",
    "        'Amazing': f\"Amazing {weekday}!\",\n",
    "        'Good': f\"Good {weekday}.\",\n",
    "        'Normal': f\"Regular {weekday}.\",\n",
    "        'Bad': f\"Tough {weekday}.\",\n",
    "        'Awful': f\"Challenging {weekday}.\"\n",
    "    }\n",
    "    \n",
    "    summary_parts.append(mood_intros.get(mood, f\"{weekday}.\"))\n",
    "    \n",
    "    # Add activities in a natural flow\n",
    "    activity_descriptions = []\n",
    "    \n",
    "    if spiritual:\n",
    "        if len(spiritual) > 2:\n",
    "            activity_descriptions.append(\"focused on spiritual practices\")\n",
    "        elif 'prayer' in str(spiritual).lower():\n",
    "            activity_descriptions.append(\"spent time in prayer and reflection\")\n",
    "        else:\n",
    "            activity_descriptions.append(\"engaged in mindful practices\")\n",
    "    \n",
    "    if learning:\n",
    "        if len(learning) > 2:\n",
    "            activity_descriptions.append(\"dove deep into learning\")\n",
    "        elif 'reading' in str(learning).lower():\n",
    "            activity_descriptions.append(\"immersed in reading and study\")\n",
    "        else:\n",
    "            activity_descriptions.append(\"focused on personal growth\")\n",
    "    \n",
    "    if creative:\n",
    "        if len(creative) > 1:\n",
    "            activity_descriptions.append(\"explored creative pursuits\")\n",
    "        else:\n",
    "            activity_descriptions.append(f\"engaged in {creative[0].lower()}\")\n",
    "    \n",
    "    if wellness:\n",
    "        activity_descriptions.append(\"prioritized self-care\")\n",
    "    \n",
    "    if entertainment:\n",
    "        activity_descriptions.append(\"enjoyed some entertainment\")\n",
    "    \n",
    "    # Combine activity descriptions\n",
    "    if activity_descriptions:\n",
    "        if len(activity_descriptions) == 1:\n",
    "            summary_parts.append(f\"I {activity_descriptions[0]}.\")\n",
    "        elif len(activity_descriptions) == 2:\n",
    "            summary_parts.append(f\"I {activity_descriptions[0]} and {activity_descriptions[1]}.\")\n",
    "        else:\n",
    "            summary_parts.append(f\"I {', '.join(activity_descriptions[:-1])}, and {activity_descriptions[-1]}.\")\n",
    "    \n",
    "    # Add sub_mood context if meaningful\n",
    "    sub_mood_lower = sub_mood.lower()\n",
    "    if sub_mood_lower not in ['', 'good', 'normal'] and sub_mood_lower != mood.lower():\n",
    "        if sub_mood_lower in ['focused', 'blessed', 'excited', 'chill']:\n",
    "            summary_parts.append(f\"Feeling {sub_mood_lower}.\")\n",
    "        elif sub_mood_lower in ['confused', 'worried', 'triggered']:\n",
    "            summary_parts.append(f\"Though feeling {sub_mood_lower}.\")\n",
    "        elif sub_mood_lower == 'yolo':\n",
    "            summary_parts.append(\"Living life to the fullest!\")\n",
    "        elif sub_mood_lower == 'happiest day':\n",
    "            summary_parts.append(\"One of my happiest days!\")\n",
    "    \n",
    "    # Add time context for late entries\n",
    "    if 'am' in time.lower() and int(time.split(':')[0]) < 6:\n",
    "        summary_parts.append(\"Late night reflections.\")\n",
    "    \n",
    "    # Combine all parts\n",
    "    full_summary = \" \".join(summary_parts)\n",
    "    \n",
    "    # Trim to ~250 characters if needed\n",
    "    if len(full_summary) > 250:\n",
    "        full_summary = full_summary[:247] + \"...\"\n",
    "    \n",
    "    return full_summary\n",
    "\n",
    "# Apply the function to create summaries\n",
    "print(\"Creating daily summaries...\")\n",
    "df['summary'] = df.apply(create_daily_summary, axis=1)\n",
    "print(\"✅ Summary column added!\")\n",
    "\n",
    "# Show a few examples\n",
    "print(f\"\\nSample summaries:\")\n",
    "for i in range(3):\n",
    "    print(f\"\\nRow {i+1} ({df.iloc[i]['full_date']}):\")\n",
    "    print(f\"Mood: {df.iloc[i]['mood']} | Sub-mood: {df.iloc[i]['sub_mood']}\")\n",
    "    print(f\"Summary: {df.iloc[i]['summary']}\")\n",
    "    print(f\"Length: {len(df.iloc[i]['summary'])} characters\")"
   ]
  },
  {
   "cell_type": "code",
   "execution_count": 16,
   "id": "3db6e41f",
   "metadata": {},
   "outputs": [
    {
     "name": "stdout",
     "output_type": "stream",
     "text": [
      "Total rows: 372\n",
      "Rows with summaries: 372\n",
      "Summary length stats:\n",
      "  Average: 164.5 characters\n",
      "  Min: 85 characters\n",
      "  Max: 209 characters\n",
      "\n",
      "Dataframe columns: ['full_date', 'date', 'weekday', 'time', 'sub_mood', 'activities', 'mood', 'full_date_dt', 'summary']\n",
      "\n",
      "More summary examples:\n",
      "\n",
      "06/04/2021 (Tuesday) - Good mood:\n",
      "'Good Tuesday. I focused on spiritual practices, dove deep into learning, explored creative pursuits, prioritized self-care, and enjoyed some entertainment. Feeling focused.'\n",
      "\n",
      "25/02/2021 (Thursday) - Good mood:\n",
      "'Good Thursday. I focused on spiritual practices, dove deep into learning, explored creative pursuits, prioritized self-care, and enjoyed some entertainment. Feeling blessed. Late night reflections.'\n",
      "\n",
      "06/01/2021 (Wednesday) - Good mood:\n",
      "'Good Wednesday. I engaged in mindful practices, dove deep into learning, explored creative pursuits, prioritized self-care, and enjoyed some entertainment. Feeling blessed.'\n",
      "\n",
      "18/11/2020 (Wednesday) - Good mood:\n",
      "'Good Wednesday. I focused on spiritual practices, dove deep into learning, explored creative pursuits, prioritized self-care, and enjoyed some entertainment. Feeling blessed.'\n",
      "\n",
      "29/09/2020 (Tuesday) - Bad mood:\n",
      "'Tough Tuesday. I engaged in mindful practices, dove deep into learning, explored creative pursuits, prioritized self-care, and enjoyed some entertainment.'\n",
      "\n",
      "First 3 rows with summary column:\n"
     ]
    },
    {
     "data": {
      "text/html": [
       "<div>\n",
       "<style scoped>\n",
       "    .dataframe tbody tr th:only-of-type {\n",
       "        vertical-align: middle;\n",
       "    }\n",
       "\n",
       "    .dataframe tbody tr th {\n",
       "        vertical-align: top;\n",
       "    }\n",
       "\n",
       "    .dataframe thead th {\n",
       "        text-align: right;\n",
       "    }\n",
       "</style>\n",
       "<table border=\"1\" class=\"dataframe\">\n",
       "  <thead>\n",
       "    <tr style=\"text-align: right;\">\n",
       "      <th></th>\n",
       "      <th>full_date</th>\n",
       "      <th>weekday</th>\n",
       "      <th>mood</th>\n",
       "      <th>sub_mood</th>\n",
       "      <th>summary</th>\n",
       "    </tr>\n",
       "  </thead>\n",
       "  <tbody>\n",
       "    <tr>\n",
       "      <th>0</th>\n",
       "      <td>16/04/2021</td>\n",
       "      <td>Friday</td>\n",
       "      <td>Good</td>\n",
       "      <td>yolo</td>\n",
       "      <td>Good Friday. I focused on spiritual practices,...</td>\n",
       "    </tr>\n",
       "    <tr>\n",
       "      <th>1</th>\n",
       "      <td>15/04/2021</td>\n",
       "      <td>Thursday</td>\n",
       "      <td>Good</td>\n",
       "      <td>focused</td>\n",
       "      <td>Good Thursday. I focused on spiritual practice...</td>\n",
       "    </tr>\n",
       "    <tr>\n",
       "      <th>2</th>\n",
       "      <td>14/04/2021</td>\n",
       "      <td>Wednesday</td>\n",
       "      <td>Normal</td>\n",
       "      <td>confused</td>\n",
       "      <td>Regular Wednesday. I focused on spiritual prac...</td>\n",
       "    </tr>\n",
       "  </tbody>\n",
       "</table>\n",
       "</div>"
      ],
      "text/plain": [
       "    full_date    weekday    mood   sub_mood  \\\n",
       "0  16/04/2021     Friday    Good       yolo   \n",
       "1  15/04/2021   Thursday    Good   focused    \n",
       "2  14/04/2021  Wednesday  Normal  confused    \n",
       "\n",
       "                                             summary  \n",
       "0  Good Friday. I focused on spiritual practices,...  \n",
       "1  Good Thursday. I focused on spiritual practice...  \n",
       "2  Regular Wednesday. I focused on spiritual prac...  "
      ]
     },
     "execution_count": 16,
     "metadata": {},
     "output_type": "execute_result"
    }
   ],
   "source": [
    "# Verify all rows have summaries\n",
    "print(f\"Total rows: {len(df)}\")\n",
    "print(f\"Rows with summaries: {df['summary'].notna().sum()}\")\n",
    "print(f\"Summary length stats:\")\n",
    "summary_lengths = df['summary'].str.len()\n",
    "print(f\"  Average: {summary_lengths.mean():.1f} characters\")\n",
    "print(f\"  Min: {summary_lengths.min()} characters\") \n",
    "print(f\"  Max: {summary_lengths.max()} characters\")\n",
    "\n",
    "# Display the updated dataframe structure\n",
    "print(f\"\\nDataframe columns: {list(df.columns)}\")\n",
    "\n",
    "# Show a few more diverse examples\n",
    "print(f\"\\nMore summary examples:\")\n",
    "sample_indices = [10, 50, 100, 150, 200]\n",
    "for idx in sample_indices:\n",
    "    if idx < len(df):\n",
    "        row = df.iloc[idx]\n",
    "        print(f\"\\n{row['full_date']} ({row['weekday']}) - {row['mood']} mood:\")\n",
    "        print(f\"'{row['summary']}'\")\n",
    "\n",
    "# Show the dataframe with the new summary column\n",
    "print(f\"\\nFirst 3 rows with summary column:\")\n",
    "display_cols = ['full_date', 'weekday', 'mood', 'sub_mood', 'summary']\n",
    "df[display_cols].head(3)"
   ]
  },
  {
   "cell_type": "code",
   "execution_count": 17,
   "id": "5fbe05d9",
   "metadata": {},
   "outputs": [
    {
     "name": "stdout",
     "output_type": "stream",
     "text": [
      "✅ CSV file exported successfully!\n",
      "📁 File location: /Users/matthewsimon/Projects/solopro/test/Daylio_Abid_with_summaries.csv\n",
      "📊 Exported data:\n",
      "   - 372 rows\n",
      "   - 9 columns: ['full_date', 'date', 'weekday', 'time', 'sub_mood', 'activities', 'mood', 'full_date_dt', 'summary']\n",
      "   - Date range: 16/04/2020 to 16/04/2021\n",
      "   - File size: 179,176 bytes (175.0 KB)\n",
      "\n",
      "📥 Your CSV file is ready for download!\n",
      "💡 The file includes your original data plus the new 'summary' column with tweet-style daily summaries.\n"
     ]
    }
   ],
   "source": [
    "# Export the enhanced dataframe to CSV\n",
    "output_path = \"/Users/matthewsimon/Projects/solopro/test/Daylio_Abid_with_summaries.csv\"\n",
    "\n",
    "# Save to CSV\n",
    "df.to_csv(output_path, index=False)\n",
    "\n",
    "print(f\"✅ CSV file exported successfully!\")\n",
    "print(f\"📁 File location: {output_path}\")\n",
    "print(f\"📊 Exported data:\")\n",
    "print(f\"   - {len(df)} rows\")\n",
    "print(f\"   - {len(df.columns)} columns: {list(df.columns)}\")\n",
    "print(f\"   - Date range: {df['full_date_dt'].min().strftime('%d/%m/%Y')} to {df['full_date_dt'].max().strftime('%d/%m/%Y')}\")\n",
    "\n",
    "# Show file size\n",
    "import os\n",
    "file_size = os.path.getsize(output_path)\n",
    "print(f\"   - File size: {file_size:,} bytes ({file_size/1024:.1f} KB)\")\n",
    "\n",
    "print(f\"\\n📥 Your CSV file is ready for download!\")\n",
    "print(f\"💡 The file includes your original data plus the new 'summary' column with tweet-style daily summaries.\")"
   ]
  },
  {
   "cell_type": "code",
   "execution_count": 18,
   "id": "72595cb4",
   "metadata": {},
   "outputs": [
    {
     "name": "stdout",
     "output_type": "stream",
     "text": [
      "📋 Preview of exported CSV file:\n",
      "==================================================\n",
      "Verified: 372 rows and 9 columns\n",
      "\n",
      "Column headers:\n",
      "  1. full_date\n",
      "  2. date\n",
      "  3. weekday\n",
      "  4. time\n",
      "  5. sub_mood\n",
      "  6. activities\n",
      "  7. mood\n",
      "  8. full_date_dt\n",
      "  9. summary\n",
      "\n",
      "First 2 rows (key columns):\n",
      " full_date  weekday mood                                                                                                                                                                                               summary\n",
      "16/04/2021   Friday Good                Good Friday. I focused on spiritual practices, dove deep into learning, explored creative pursuits, prioritized self-care, and enjoyed some entertainment. Living life to the fullest!\n",
      "15/04/2021 Thursday Good Good Thursday. I focused on spiritual practices, dove deep into learning, explored creative pursuits, prioritized self-care, and enjoyed some entertainment. Feeling focused. Late night reflections.\n",
      "\n",
      "✅ Export verification complete - your CSV file is ready!\n",
      "📂 You can find it at: /Users/matthewsimon/Projects/solopro/test/Daylio_Abid_with_summaries.csv\n"
     ]
    }
   ],
   "source": [
    "# Preview the exported CSV file to verify it was saved correctly\n",
    "print(\"📋 Preview of exported CSV file:\")\n",
    "print(\"=\"*50)\n",
    "\n",
    "# Read back the CSV to verify\n",
    "df_verify = pd.read_csv(output_path)\n",
    "print(f\"Verified: {len(df_verify)} rows and {len(df_verify.columns)} columns\")\n",
    "\n",
    "# Show the column headers\n",
    "print(f\"\\nColumn headers:\")\n",
    "for i, col in enumerate(df_verify.columns, 1):\n",
    "    print(f\"  {i}. {col}\")\n",
    "\n",
    "# Show first 2 rows with key columns\n",
    "print(f\"\\nFirst 2 rows (key columns):\")\n",
    "preview_cols = ['full_date', 'weekday', 'mood', 'summary']\n",
    "print(df_verify[preview_cols].head(2).to_string(index=False))\n",
    "\n",
    "print(f\"\\n✅ Export verification complete - your CSV file is ready!\")\n",
    "print(f\"📂 You can find it at: {output_path}\")"
   ]
  },
  {
   "cell_type": "code",
   "execution_count": 19,
   "id": "4b8151d4",
   "metadata": {},
   "outputs": [
    {
     "name": "stdout",
     "output_type": "stream",
     "text": [
      "🔍 DAILY LOG FORM vs CSV DATA MAPPING ANALYSIS\n",
      "============================================================\n",
      "\n",
      "📊 YOUR CSV DATA COLUMNS:\n",
      "   1. full_date\n",
      "   2. date\n",
      "   3. weekday\n",
      "   4. time\n",
      "   5. sub_mood\n",
      "   6. activities\n",
      "   7. mood\n",
      "   8. full_date_dt\n",
      "   9. summary\n",
      "\n",
      "📅 SAMPLE ROW: 16/04/2021 (Friday)\n",
      "Original mood: Good\n",
      "Sub-mood: yolo\n",
      "Summary: Good Friday. I focused on spiritual practices, dove deep into learning, explored creative pursuits, ...\n",
      "\n",
      "🎯 DAILY LOG FORM FIELD MAPPING:\n",
      "========================================\n",
      "1️⃣ OVERALL MOOD SLIDER (1-10):\n",
      "   CSV 'mood': 'Good' → Form value: 8/10\n",
      "\n",
      "2️⃣ EXERCISE CHECKBOX:\n",
      "   Has exercise activities: True\n",
      "   Exercise activities found: ['walk']\n",
      "\n",
      "3️⃣ WORK SATISFACTION SLIDER (1-10):\n",
      "   Work activities count: 4\n",
      "   Work activities: ['writing', 'language learning', 'documentary', 'coding']\n",
      "   Calculated work satisfaction: 10/10\n",
      "\n",
      "4️⃣ PERSONAL LIFE SATISFACTION SLIDER (1-10):\n",
      "   Personal activities count: 5\n",
      "   Personal activities: ['reading', 'art', 'prayer', 'meditation', 'cooking']\n",
      "   Calculated personal satisfaction: 10/10\n",
      "\n",
      "5️⃣ WORK-LIFE BALANCE SLIDER (1-10):\n",
      "   Has both work & personal: True\n",
      "   Calculated balance: 10/10\n",
      "\n",
      "6️⃣ SLEEP (hours):\n",
      "   Estimated sleep hours: 7.5\n",
      "\n",
      "7️⃣ TEXT FIELDS:\n",
      "   📝 HIGHLIGHTS (textarea):\n",
      "      Source: Use positive parts of summary + good mood activities\n",
      "      Generated: \"Great day! Good Friday. I focused on spiritual practices, dove deep into learning, explored...\"\n",
      "\n",
      "   📝 CHALLENGES (textarea):\n",
      "      Source: Use sub_mood + negative context from mood\n",
      "      Generated: \"Overall positive day with minor challenges.\"\n",
      "\n",
      "   📝 TOMORROW'S GOAL (textarea):\n",
      "      Source: Derive from patterns and missing activities\n",
      "      Generated: \"Continue with reading, art and maintain positive momentum.\"\n",
      "\n",
      "============================================================\n",
      "✨ COMPLETE FORM DATA for 16/04/2021:\n",
      "   overallMood: 8\n",
      "   workSatisfaction: 10\n",
      "   personalLifeSatisfaction: 10\n",
      "   balanceRating: 10\n",
      "   sleep: 7.5\n",
      "   exercise: True\n",
      "   highlights: \"Great day! Good Friday. I focused on spiritual practices, dove deep into learning, explored...\"\n",
      "   challenges: \"Overall positive day with minor challenges.\"\n",
      "   tomorrowGoal: \"Continue with reading, art and maintain positive momentum.\"\n"
     ]
    }
   ],
   "source": [
    "# DAILY LOG FORM MAPPING ANALYSIS\n",
    "# =====================================\n",
    "\n",
    "print(\"🔍 DAILY LOG FORM vs CSV DATA MAPPING ANALYSIS\")\n",
    "print(\"=\" * 60)\n",
    "\n",
    "print(\"\\n📊 YOUR CSV DATA COLUMNS:\")\n",
    "for i, col in enumerate(df.columns, 1):\n",
    "    print(f\"  {i:2d}. {col}\")\n",
    "\n",
    "# Let's show a sample row and how it maps\n",
    "sample_row = df.iloc[0]\n",
    "print(f\"\\n📅 SAMPLE ROW: {sample_row['full_date']} ({sample_row['weekday']})\")\n",
    "print(f\"Original mood: {sample_row['mood']}\")\n",
    "print(f\"Sub-mood: {sample_row['sub_mood']}\")\n",
    "print(f\"Summary: {sample_row['summary'][:100]}...\")\n",
    "\n",
    "print(f\"\\n🎯 DAILY LOG FORM FIELD MAPPING:\")\n",
    "print(\"=\" * 40)\n",
    "\n",
    "# 1. Mood Mapping\n",
    "mood_mapping = {\n",
    "    'Amazing': 10,\n",
    "    'Good': 8, \n",
    "    'Normal': 5,\n",
    "    'Bad': 3,\n",
    "    'Awful': 1\n",
    "}\n",
    "\n",
    "print(f\"1️⃣ OVERALL MOOD SLIDER (1-10):\")\n",
    "mapped_mood = mood_mapping.get(sample_row['mood'], 5)\n",
    "print(f\"   CSV 'mood': '{sample_row['mood']}' → Form value: {mapped_mood}/10\")\n",
    "\n",
    "# 2. Activities Analysis\n",
    "activities = sample_row['activities'].split('|')\n",
    "activities_clean = [act.strip().lower() for act in activities if act.strip()]\n",
    "\n",
    "exercise_activities = ['walk', 'exercise', 'gym', 'run', 'bike', 'sport']\n",
    "sleep_keywords = ['sleep', 'power nap', 'nap', 'rest']\n",
    "work_activities = ['coding', 'learning', 'tutorial', 'research', 'writing', 'documentary']\n",
    "personal_activities = ['art', 'cooking', 'meditation', 'prayer', 'reading', 'quran']\n",
    "\n",
    "has_exercise = any(ex in ' '.join(activities_clean) for ex in exercise_activities)\n",
    "work_count = sum(1 for work in work_activities if work in ' '.join(activities_clean))\n",
    "personal_count = sum(1 for pers in personal_activities if pers in ' '.join(activities_clean))\n",
    "\n",
    "print(f\"\\n2️⃣ EXERCISE CHECKBOX:\")\n",
    "print(f\"   Has exercise activities: {has_exercise}\")\n",
    "exercise_found = [act for act in activities_clean if any(ex in act for ex in exercise_activities)]\n",
    "print(f\"   Exercise activities found: {exercise_found}\")\n",
    "\n",
    "print(f\"\\n3️⃣ WORK SATISFACTION SLIDER (1-10):\")\n",
    "# Base it on work activities + mood\n",
    "work_satisfaction = min(10, max(1, (work_count * 1.5) + mood_mapping.get(sample_row['mood'], 5) - 2))\n",
    "print(f\"   Work activities count: {work_count}\")\n",
    "print(f\"   Work activities: {[act for act in activities_clean if any(w in act for w in work_activities)]}\")\n",
    "print(f\"   Calculated work satisfaction: {work_satisfaction:.0f}/10\")\n",
    "\n",
    "print(f\"\\n4️⃣ PERSONAL LIFE SATISFACTION SLIDER (1-10):\")\n",
    "personal_satisfaction = min(10, max(1, (personal_count * 1.2) + mood_mapping.get(sample_row['mood'], 5) - 1))\n",
    "print(f\"   Personal activities count: {personal_count}\")\n",
    "print(f\"   Personal activities: {[act for act in activities_clean if any(p in act for p in personal_activities)]}\")\n",
    "print(f\"   Calculated personal satisfaction: {personal_satisfaction:.0f}/10\")\n",
    "\n",
    "print(f\"\\n5️⃣ WORK-LIFE BALANCE SLIDER (1-10):\")\n",
    "# Good balance if both work and personal activities exist\n",
    "if work_count > 0 and personal_count > 0:\n",
    "    balance_score = min(10, 6 + mood_mapping.get(sample_row['mood'], 5) // 2)\n",
    "elif work_count > 0 or personal_count > 0:\n",
    "    balance_score = 4\n",
    "else:\n",
    "    balance_score = 2\n",
    "print(f\"   Has both work & personal: {work_count > 0 and personal_count > 0}\")\n",
    "print(f\"   Calculated balance: {balance_score}/10\")\n",
    "\n",
    "print(f\"\\n6️⃣ SLEEP (hours):\")\n",
    "# Try to extract from time or estimate\n",
    "if 'power nap' in ' '.join(activities_clean):\n",
    "    estimated_sleep = 7.5  # Assume good sleep if taking naps\n",
    "else:\n",
    "    estimated_sleep = 7.0  # Default\n",
    "print(f\"   Estimated sleep hours: {estimated_sleep}\")\n",
    "\n",
    "print(f\"\\n7️⃣ TEXT FIELDS:\")\n",
    "print(f\"   📝 HIGHLIGHTS (textarea):\")\n",
    "print(f\"      Source: Use positive parts of summary + good mood activities\")\n",
    "if sample_row['mood'] in ['Amazing', 'Good']:\n",
    "    highlight_text = f\"Great day! {sample_row['summary'][:80]}...\"\n",
    "else:\n",
    "    highlight_text = f\"Found some positives: {', '.join(activities_clean[:3])}\"\n",
    "print(f\"      Generated: \\\"{highlight_text}\\\"\")\n",
    "\n",
    "print(f\"\\n   📝 CHALLENGES (textarea):\")\n",
    "print(f\"      Source: Use sub_mood + negative context from mood\")\n",
    "if sample_row['sub_mood'].strip().lower() in ['confused', 'angry', 'worried', 'triggered', 'sad', 'awful']:\n",
    "    challenge_text = f\"Feeling {sample_row['sub_mood'].strip()}, which made the day more difficult.\"\n",
    "elif sample_row['mood'] in ['Bad', 'Awful']:\n",
    "    challenge_text = f\"Had a {sample_row['mood'].lower()} day overall, faced some difficulties.\"\n",
    "else:\n",
    "    challenge_text = \"Overall positive day with minor challenges.\"\n",
    "print(f\"      Generated: \\\"{challenge_text}\\\"\")\n",
    "\n",
    "print(f\"\\n   📝 TOMORROW'S GOAL (textarea):\")\n",
    "print(f\"      Source: Derive from patterns and missing activities\")\n",
    "tomorrow_goal = f\"Continue with {', '.join(activities_clean[:2])} and maintain positive momentum.\"\n",
    "print(f\"      Generated: \\\"{tomorrow_goal}\\\"\")\n",
    "\n",
    "print(f\"\\n\" + \"=\" * 60)\n",
    "print(f\"✨ COMPLETE FORM DATA for {sample_row['full_date']}:\")\n",
    "print(f\"   overallMood: {mapped_mood}\")\n",
    "print(f\"   workSatisfaction: {work_satisfaction:.0f}\")\n",
    "print(f\"   personalLifeSatisfaction: {personal_satisfaction:.0f}\")\n",
    "print(f\"   balanceRating: {balance_score}\")\n",
    "print(f\"   sleep: {estimated_sleep}\")\n",
    "print(f\"   exercise: {has_exercise}\")\n",
    "print(f\"   highlights: \\\"{highlight_text}\\\"\")\n",
    "print(f\"   challenges: \\\"{challenge_text}\\\"\") \n",
    "print(f\"   tomorrowGoal: \\\"{tomorrow_goal}\\\"\")"
   ]
  },
  {
   "cell_type": "code",
   "execution_count": 20,
   "id": "5734c246",
   "metadata": {},
   "outputs": [
    {
     "name": "stdout",
     "output_type": "stream",
     "text": [
      "🔄 Converting all CSV rows to Daily Log Form format...\n",
      "✅ Converted 372 entries!\n",
      "\n",
      "📋 SAMPLE FORM DATA ENTRIES:\n",
      "==================================================\n",
      "\n",
      "📅 16/04/2021 (Friday) - Original: Good\n",
      "Form fields:\n",
      "  overallMood: 8\n",
      "  workSatisfaction: 10\n",
      "  personalLifeSatisfaction: 10\n",
      "  balanceRating: 10\n",
      "  sleep: 7.5\n",
      "  exercise: True\n",
      "  highlights: \"Great day! Good Friday. I focused on spiritual pra...\"\n",
      "  challenges: Overall positive day with minor challenges.\n",
      "  tomorrowGoal: \"Continue with Reading, Art and maintain positive m...\"\n",
      "\n",
      "📅 15/04/2021 (Thursday) - Original: Good\n",
      "Form fields:\n",
      "  overallMood: 8\n",
      "  workSatisfaction: 10\n",
      "  personalLifeSatisfaction: 10\n",
      "  balanceRating: 10\n",
      "  sleep: 7.5\n",
      "  exercise: True\n",
      "  highlights: \"Great day! Good Thursday. I focused on spiritual p...\"\n",
      "  challenges: Overall positive day with minor challenges.\n",
      "  tomorrowGoal: \"Continue with Reading, Learning and maintain posit...\"\n",
      "\n",
      "📅 14/04/2021 (Wednesday) - Original: Normal\n",
      "Form fields:\n",
      "  overallMood: 5\n",
      "  workSatisfaction: 10\n",
      "  personalLifeSatisfaction: 10\n",
      "  balanceRating: 8\n",
      "  sleep: 7.0\n",
      "  exercise: True\n",
      "  highlights: Found positives: Reading, Learning, Prayer\n",
      "  challenges: \"Feeling confused, which made the day more challeng...\"\n",
      "  tomorrowGoal: \"Continue with Reading, Learning and maintain posit...\"\n",
      "\n",
      "📊 Form data DataFrame created with 372 rows and 12 columns\n",
      "Columns: ['date', 'weekday', 'original_mood', 'form_overallMood', 'form_workSatisfaction', 'form_personalLifeSatisfaction', 'form_balanceRating', 'form_sleep', 'form_exercise', 'form_highlights', 'form_challenges', 'form_tomorrowGoal']\n"
     ]
    }
   ],
   "source": [
    "def convert_csv_to_daily_log_form(row):\n",
    "    \"\"\"\n",
    "    Convert a single CSV row into daily log form data format\n",
    "    \"\"\"\n",
    "    # Mood mapping\n",
    "    mood_mapping = {\n",
    "        'Amazing': 10, 'Good': 8, 'Normal': 5, 'Bad': 3, 'Awful': 1\n",
    "    }\n",
    "    \n",
    "    # Parse activities\n",
    "    activities = row['activities'].split('|')\n",
    "    activities_clean = [act.strip().lower() for act in activities if act.strip()]\n",
    "    \n",
    "    # Activity categories\n",
    "    exercise_activities = ['walk', 'exercise', 'gym', 'run', 'bike', 'sport']\n",
    "    work_activities = ['coding', 'learning', 'tutorial', 'research', 'writing', 'documentary']\n",
    "    personal_activities = ['art', 'cooking', 'meditation', 'prayer', 'reading', 'quran']\n",
    "    \n",
    "    # Calculate metrics\n",
    "    has_exercise = any(ex in ' '.join(activities_clean) for ex in exercise_activities)\n",
    "    work_count = sum(1 for work in work_activities if work in ' '.join(activities_clean))\n",
    "    personal_count = sum(1 for pers in personal_activities if pers in ' '.join(activities_clean))\n",
    "    base_mood = mood_mapping.get(row['mood'], 5)\n",
    "    \n",
    "    # Calculate form values\n",
    "    overall_mood = base_mood\n",
    "    work_satisfaction = min(10, max(1, (work_count * 1.5) + base_mood - 2))\n",
    "    personal_satisfaction = min(10, max(1, (personal_count * 1.2) + base_mood - 1))\n",
    "    \n",
    "    # Balance calculation\n",
    "    if work_count > 0 and personal_count > 0:\n",
    "        balance_rating = min(10, 6 + base_mood // 2)\n",
    "    elif work_count > 0 or personal_count > 0:\n",
    "        balance_rating = 4\n",
    "    else:\n",
    "        balance_rating = 2\n",
    "    \n",
    "    # Sleep estimation\n",
    "    sleep_hours = 7.5 if 'power nap' in ' '.join(activities_clean) else 7.0\n",
    "    \n",
    "    # Text fields\n",
    "    if row['mood'] in ['Amazing', 'Good']:\n",
    "        highlights = f\"Great day! {row['summary'][:100]}...\"\n",
    "    else:\n",
    "        highlights = f\"Found positives: {', '.join([act.title() for act in activities_clean[:3]])}\"\n",
    "    \n",
    "    sub_mood_lower = row['sub_mood'].strip().lower()\n",
    "    if sub_mood_lower in ['confused', 'angry', 'worried', 'triggered', 'sad', 'awful']:\n",
    "        challenges = f\"Feeling {row['sub_mood'].strip()}, which made the day more challenging.\"\n",
    "    elif row['mood'] in ['Bad', 'Awful']:\n",
    "        challenges = f\"Had a {row['mood'].lower()} day overall, faced some difficulties.\"\n",
    "    else:\n",
    "        challenges = \"Overall positive day with minor challenges.\"\n",
    "    \n",
    "    tomorrow_goal = f\"Continue with {', '.join([act.title() for act in activities_clean[:2]])} and maintain positive momentum.\"\n",
    "    \n",
    "    return {\n",
    "        'date': row['full_date'],\n",
    "        'weekday': row['weekday'],\n",
    "        'form_data': {\n",
    "            'overallMood': int(overall_mood),\n",
    "            'workSatisfaction': int(work_satisfaction),\n",
    "            'personalLifeSatisfaction': int(personal_satisfaction),\n",
    "            'balanceRating': int(balance_rating),\n",
    "            'sleep': sleep_hours,\n",
    "            'exercise': has_exercise,\n",
    "            'highlights': highlights,\n",
    "            'challenges': challenges,\n",
    "            'tomorrowGoal': tomorrow_goal\n",
    "        },\n",
    "        'original_mood': row['mood'],\n",
    "        'original_summary': row['summary']\n",
    "    }\n",
    "\n",
    "# Convert all rows to form data\n",
    "print(\"🔄 Converting all CSV rows to Daily Log Form format...\")\n",
    "form_data_list = []\n",
    "\n",
    "for index, row in df.iterrows():\n",
    "    form_entry = convert_csv_to_daily_log_form(row)\n",
    "    form_data_list.append(form_entry)\n",
    "\n",
    "print(f\"✅ Converted {len(form_data_list)} entries!\")\n",
    "\n",
    "# Show a few examples\n",
    "print(f\"\\n📋 SAMPLE FORM DATA ENTRIES:\")\n",
    "print(\"=\" * 50)\n",
    "\n",
    "for i in range(min(3, len(form_data_list))):\n",
    "    entry = form_data_list[i]\n",
    "    print(f\"\\n📅 {entry['date']} ({entry['weekday']}) - Original: {entry['original_mood']}\")\n",
    "    print(\"Form fields:\")\n",
    "    for field, value in entry['form_data'].items():\n",
    "        if isinstance(value, str) and len(value) > 50:\n",
    "            print(f\"  {field}: \\\"{value[:50]}...\\\"\")\n",
    "        else:\n",
    "            print(f\"  {field}: {value}\")\n",
    "\n",
    "# Create a DataFrame for form data\n",
    "form_df_data = []\n",
    "for entry in form_data_list:\n",
    "    row_data = {\n",
    "        'date': entry['date'],\n",
    "        'weekday': entry['weekday'],\n",
    "        'original_mood': entry['original_mood']\n",
    "    }\n",
    "    # Add form fields\n",
    "    for field, value in entry['form_data'].items():\n",
    "        row_data[f'form_{field}'] = value\n",
    "    form_df_data.append(row_data)\n",
    "\n",
    "form_df = pd.DataFrame(form_df_data)\n",
    "print(f\"\\n📊 Form data DataFrame created with {len(form_df)} rows and {len(form_df.columns)} columns\")\n",
    "print(f\"Columns: {list(form_df.columns)}\")"
   ]
  },
  {
   "cell_type": "code",
   "execution_count": 21,
   "id": "aea71e22",
   "metadata": {},
   "outputs": [
    {
     "name": "stdout",
     "output_type": "stream",
     "text": [
      "✅ FORM-READY DATA EXPORTED!\n",
      "📁 File: /Users/matthewsimon/Projects/solopro/test/Daylio_Daily_Log_Form_Ready.csv\n",
      "\n",
      "📊 FORM DATA SUMMARY:\n",
      "========================================\n",
      "Total entries: 372\n",
      "Date range: 01/01/2021 to 31/12/2020\n",
      "\n",
      "🎯 FIELD STATISTICS:\n",
      "Average Overall Mood: 6.9/10\n",
      "Average Work Satisfaction: 8.8/10\n",
      "Average Personal Life: 8.6/10\n",
      "Average Balance: 8.9/10\n",
      "Average Sleep: 7.4 hours\n",
      "Exercise days: 309/372 (83.1%)\n",
      "\n",
      "🏆 MOOD DISTRIBUTION:\n",
      "  Good: 183 days (49.2%)\n",
      "  Normal: 84 days (22.6%)\n",
      "  Amazing: 60 days (16.1%)\n",
      "  Bad: 23 days (6.2%)\n",
      "  Awful: 22 days (5.9%)\n",
      "\n",
      "💡 HOW TO USE THIS DATA:\n",
      "========================================\n",
      "1. Each row represents one day's form data\n",
      "2. 'form_*' columns contain the mapped values for your daily log form\n",
      "3. You can use this to:\n",
      "   • Auto-fill forms programmatically\n",
      "   • Analyze patterns in your data\n",
      "   • Import historical data into your app\n",
      "   • Create visualizations of your daily metrics\n",
      "\n",
      "📋 DAILY LOG FORM FIELD MAPPING COMPLETE!\n",
      "✨ You now have 372 days of form-ready data!\n",
      "\n",
      "📦 File size: 91,620 bytes (89.5 KB)\n",
      "📥 Ready for download: /Users/matthewsimon/Projects/solopro/test/Daylio_Daily_Log_Form_Ready.csv\n"
     ]
    }
   ],
   "source": [
    "# Export the form-ready data\n",
    "form_output_path = \"/Users/matthewsimon/Projects/solopro/test/Daylio_Daily_Log_Form_Ready.csv\"\n",
    "form_df.to_csv(form_output_path, index=False)\n",
    "\n",
    "print(f\"✅ FORM-READY DATA EXPORTED!\")\n",
    "print(f\"📁 File: {form_output_path}\")\n",
    "\n",
    "# Summary statistics\n",
    "print(f\"\\n📊 FORM DATA SUMMARY:\")\n",
    "print(\"=\" * 40)\n",
    "print(f\"Total entries: {len(form_df)}\")\n",
    "print(f\"Date range: {form_df['date'].min()} to {form_df['date'].max()}\")\n",
    "\n",
    "print(f\"\\n🎯 FIELD STATISTICS:\")\n",
    "print(f\"Average Overall Mood: {form_df['form_overallMood'].mean():.1f}/10\")\n",
    "print(f\"Average Work Satisfaction: {form_df['form_workSatisfaction'].mean():.1f}/10\") \n",
    "print(f\"Average Personal Life: {form_df['form_personalLifeSatisfaction'].mean():.1f}/10\")\n",
    "print(f\"Average Balance: {form_df['form_balanceRating'].mean():.1f}/10\")\n",
    "print(f\"Average Sleep: {form_df['form_sleep'].mean():.1f} hours\")\n",
    "print(f\"Exercise days: {form_df['form_exercise'].sum()}/{len(form_df)} ({form_df['form_exercise'].mean()*100:.1f}%)\")\n",
    "\n",
    "print(f\"\\n🏆 MOOD DISTRIBUTION:\")\n",
    "mood_dist = form_df['original_mood'].value_counts()\n",
    "for mood, count in mood_dist.items():\n",
    "    print(f\"  {mood}: {count} days ({count/len(form_df)*100:.1f}%)\")\n",
    "\n",
    "print(f\"\\n💡 HOW TO USE THIS DATA:\")\n",
    "print(\"=\" * 40)\n",
    "print(\"1. Each row represents one day's form data\")\n",
    "print(\"2. 'form_*' columns contain the mapped values for your daily log form\")\n",
    "print(\"3. You can use this to:\")\n",
    "print(\"   • Auto-fill forms programmatically\")\n",
    "print(\"   • Analyze patterns in your data\")\n",
    "print(\"   • Import historical data into your app\")\n",
    "print(\"   • Create visualizations of your daily metrics\")\n",
    "\n",
    "print(f\"\\n📋 DAILY LOG FORM FIELD MAPPING COMPLETE!\")\n",
    "print(f\"✨ You now have {len(form_df)} days of form-ready data!\")\n",
    "\n",
    "# Show file info\n",
    "import os\n",
    "file_size = os.path.getsize(form_output_path)\n",
    "print(f\"\\n📦 File size: {file_size:,} bytes ({file_size/1024:.1f} KB)\")\n",
    "print(f\"📥 Ready for download: {form_output_path}\")"
   ]
  },
  {
   "cell_type": "code",
   "execution_count": 22,
   "id": "8d907d31",
   "metadata": {},
   "outputs": [
    {
     "name": "stdout",
     "output_type": "stream",
     "text": [
      "🔍 ANALYZING FORM_DF STRUCTURE FOR SCORE COLUMNS:\n",
      "============================================================\n",
      "DataFrame shape: (372, 12)\n",
      "\n",
      "All columns:\n",
      "   1. date\n",
      "   2. weekday\n",
      "   3. original_mood\n",
      "   4. form_overallMood\n",
      "   5. form_workSatisfaction\n",
      "   6. form_personalLifeSatisfaction\n",
      "   7. form_balanceRating\n",
      "   8. form_sleep\n",
      "   9. form_exercise\n",
      "  10. form_highlights\n",
      "  11. form_challenges\n",
      "  12. form_tomorrowGoal\n",
      "\n",
      "🎯 SCORE COLUMNS IDENTIFIED:\n",
      "========================================\n",
      "Score columns to average: ['form_overallMood', 'form_workSatisfaction', 'form_personalLifeSatisfaction', 'form_balanceRating']\n",
      "\n",
      "📊 SAMPLE VALUES FOR SCORE COLUMNS:\n",
      "  form_overallMood: 8\n",
      "  form_workSatisfaction: 10\n",
      "  form_personalLifeSatisfaction: 10\n",
      "  form_balanceRating: 10\n",
      "\n",
      "📈 STATISTICS FOR SCORE COLUMNS:\n",
      "  form_overallMood:\n",
      "    Min: 1, Max: 10, Mean: 6.92\n",
      "  form_workSatisfaction:\n",
      "    Min: 1, Max: 10, Mean: 8.78\n",
      "  form_personalLifeSatisfaction:\n",
      "    Min: 1, Max: 10, Mean: 8.62\n",
      "  form_balanceRating:\n",
      "    Min: 2, Max: 10, Mean: 8.86\n",
      "\n",
      "📋 FIRST 3 ROWS - SCORE COLUMNS:\n",
      "      date  form_overallMood  form_workSatisfaction  form_personalLifeSatisfaction  form_balanceRating\n",
      "16/04/2021                 8                     10                             10                  10\n",
      "15/04/2021                 8                     10                             10                  10\n",
      "14/04/2021                 5                     10                             10                   8\n"
     ]
    }
   ],
   "source": [
    "# Check the structure of our latest dataframe (form_df) to identify score columns\n",
    "print(\"🔍 ANALYZING FORM_DF STRUCTURE FOR SCORE COLUMNS:\")\n",
    "print(\"=\" * 60)\n",
    "\n",
    "print(f\"DataFrame shape: {form_df.shape}\")\n",
    "print(f\"\\nAll columns:\")\n",
    "for i, col in enumerate(form_df.columns, 1):\n",
    "    print(f\"  {i:2d}. {col}\")\n",
    "\n",
    "print(f\"\\n🎯 SCORE COLUMNS IDENTIFIED:\")\n",
    "print(\"=\" * 40)\n",
    "\n",
    "# Identify columns that contain numerical scores (1-10 scale)\n",
    "score_columns = [col for col in form_df.columns if 'form_' in col and \n",
    "                 col in ['form_overallMood', 'form_workSatisfaction', \n",
    "                        'form_personalLifeSatisfaction', 'form_balanceRating']]\n",
    "\n",
    "print(f\"Score columns to average: {score_columns}\")\n",
    "\n",
    "# Show sample values for these columns\n",
    "print(f\"\\n📊 SAMPLE VALUES FOR SCORE COLUMNS:\")\n",
    "sample_row = form_df.iloc[0]\n",
    "for col in score_columns:\n",
    "    print(f\"  {col}: {sample_row[col]}\")\n",
    "\n",
    "print(f\"\\n📈 STATISTICS FOR SCORE COLUMNS:\")\n",
    "for col in score_columns:\n",
    "    values = form_df[col]\n",
    "    print(f\"  {col}:\")\n",
    "    print(f\"    Min: {values.min()}, Max: {values.max()}, Mean: {values.mean():.2f}\")\n",
    "\n",
    "# Show first 3 rows with score columns\n",
    "print(f\"\\n📋 FIRST 3 ROWS - SCORE COLUMNS:\")\n",
    "score_display = form_df[['date'] + score_columns].head(3)\n",
    "print(score_display.to_string(index=False))"
   ]
  },
  {
   "cell_type": "code",
   "execution_count": 23,
   "id": "abf4485e",
   "metadata": {},
   "outputs": [
    {
     "name": "stdout",
     "output_type": "stream",
     "text": [
      "➕ ADDING AVERAGE_SCORE COLUMN:\n",
      "==================================================\n",
      "Score columns being averaged: ['form_overallMood', 'form_workSatisfaction', 'form_personalLifeSatisfaction', 'form_balanceRating']\n",
      "✅ Average score column added successfully!\n",
      "\n",
      "📊 AVERAGE_SCORE STATISTICS:\n",
      "  Min: 2.25\n",
      "  Max: 10.0\n",
      "  Mean: 8.30\n",
      "  Median: 9.25\n",
      "  Std Dev: 1.86\n",
      "\n",
      "📈 AVERAGE_SCORE DISTRIBUTION:\n",
      "  Excellent (9.0-10.0): 221 days (59.4%)\n",
      "  Very Good (8.0-8.99): 31 days (8.3%)\n",
      "  Good (7.0-7.99): 43 days (11.6%)\n",
      "  Above Average (6.0-6.99): 26 days (7.0%)\n",
      "  Average (5.0-5.99): 19 days (5.1%)\n",
      "  Below Average (0.0-4.99): 32 days (8.6%)\n",
      "\n",
      "📋 SAMPLE ROWS WITH AVERAGE_SCORE:\n",
      "      date  form_overallMood  form_workSatisfaction  form_personalLifeSatisfaction  form_balanceRating  average_score\n",
      "16/04/2021                 8                     10                             10                  10           9.50\n",
      "15/04/2021                 8                     10                             10                  10           9.50\n",
      "14/04/2021                 5                     10                             10                   8           8.25\n",
      "13/04/2021                 5                     10                             10                   8           8.25\n",
      "12/04/2021                 1                      8                              3                   6           4.50\n",
      "\n",
      "🎯 NEW DATAFRAME INFO:\n",
      "  Shape: (372, 13)\n",
      "  Total columns: 13\n",
      "  New column position: 13\n"
     ]
    }
   ],
   "source": [
    "# Add 'average_score' column by calculating the average of all score columns\n",
    "print(\"➕ ADDING AVERAGE_SCORE COLUMN:\")\n",
    "print(\"=\" * 50)\n",
    "\n",
    "# Define the score columns to average\n",
    "score_columns = ['form_overallMood', 'form_workSatisfaction', \n",
    "                'form_personalLifeSatisfaction', 'form_balanceRating']\n",
    "\n",
    "print(f\"Score columns being averaged: {score_columns}\")\n",
    "\n",
    "# Calculate the average score for each row\n",
    "form_df['average_score'] = form_df[score_columns].mean(axis=1).round(2)\n",
    "\n",
    "print(f\"✅ Average score column added successfully!\")\n",
    "\n",
    "# Show statistics for the new column\n",
    "print(f\"\\n📊 AVERAGE_SCORE STATISTICS:\")\n",
    "avg_scores = form_df['average_score']\n",
    "print(f\"  Min: {avg_scores.min()}\")\n",
    "print(f\"  Max: {avg_scores.max()}\")\n",
    "print(f\"  Mean: {avg_scores.mean():.2f}\")\n",
    "print(f\"  Median: {avg_scores.median():.2f}\")\n",
    "print(f\"  Std Dev: {avg_scores.std():.2f}\")\n",
    "\n",
    "# Show distribution\n",
    "print(f\"\\n📈 AVERAGE_SCORE DISTRIBUTION:\")\n",
    "score_ranges = [\n",
    "    (9.0, 10.0, \"Excellent (9.0-10.0)\"),\n",
    "    (8.0, 8.99, \"Very Good (8.0-8.99)\"),\n",
    "    (7.0, 7.99, \"Good (7.0-7.99)\"),\n",
    "    (6.0, 6.99, \"Above Average (6.0-6.99)\"),\n",
    "    (5.0, 5.99, \"Average (5.0-5.99)\"),\n",
    "    (0.0, 4.99, \"Below Average (0.0-4.99)\")\n",
    "]\n",
    "\n",
    "for min_val, max_val, label in score_ranges:\n",
    "    count = len(form_df[(form_df['average_score'] >= min_val) & (form_df['average_score'] <= max_val)])\n",
    "    percentage = (count / len(form_df)) * 100\n",
    "    print(f\"  {label}: {count} days ({percentage:.1f}%)\")\n",
    "\n",
    "# Show sample rows with the new average_score column\n",
    "print(f\"\\n📋 SAMPLE ROWS WITH AVERAGE_SCORE:\")\n",
    "sample_cols = ['date', 'form_overallMood', 'form_workSatisfaction', \n",
    "               'form_personalLifeSatisfaction', 'form_balanceRating', 'average_score']\n",
    "print(form_df[sample_cols].head(5).to_string(index=False))\n",
    "\n",
    "print(f\"\\n🎯 NEW DATAFRAME INFO:\")\n",
    "print(f\"  Shape: {form_df.shape}\")\n",
    "print(f\"  Total columns: {len(form_df.columns)}\")\n",
    "print(f\"  New column position: {list(form_df.columns).index('average_score') + 1}\")"
   ]
  },
  {
   "cell_type": "code",
   "execution_count": 24,
   "id": "2ebab5cc",
   "metadata": {},
   "outputs": [
    {
     "name": "stdout",
     "output_type": "stream",
     "text": [
      "✅ UPDATED CSV EXPORTED WITH AVERAGE_SCORE COLUMN!\n",
      "📁 File: /Users/matthewsimon/Projects/solopro/test/Daylio_Daily_Log_Form_Ready_with_Average.csv\n",
      "\n",
      "📊 FINAL DATAFRAME SUMMARY:\n",
      "==================================================\n",
      "Total rows: 372\n",
      "Total columns: 13\n",
      "Date range: 01/01/2021 to 31/12/2020\n",
      "\n",
      "📋 ALL COLUMNS:\n",
      "   1. date\n",
      "   2. weekday\n",
      "   3. original_mood\n",
      "   4. form_overallMood\n",
      "   5. form_workSatisfaction\n",
      "   6. form_personalLifeSatisfaction\n",
      "   7. form_balanceRating\n",
      "   8. form_sleep\n",
      "   9. form_exercise\n",
      "  10. form_highlights\n",
      "  11. form_challenges\n",
      "  12. form_tomorrowGoal\n",
      "  13. average_score ⭐ (NEW)\n",
      "\n",
      "🏆 AVERAGE SCORE INSIGHTS:\n",
      "========================================\n",
      "🥇 TOP 5 BEST DAYS (by average score):\n",
      "   08/04/2021: 10.0/10 (mood: Amazing)\n",
      "   02/04/2021: 10.0/10 (mood: Amazing)\n",
      "   26/03/2021: 10.0/10 (mood: Amazing)\n",
      "   11/03/2021: 10.0/10 (mood: Amazing)\n",
      "   19/02/2021: 10.0/10 (mood: Amazing)\n",
      "\n",
      "📉 TOP 5 CHALLENGING DAYS (by average score):\n",
      "   01/09/2020: 2.25/10 (mood: Awful)\n",
      "   16/08/2020: 2.5/10 (mood: Awful)\n",
      "   18/08/2020: 2.75/10 (mood: Awful)\n",
      "   11/12/2020: 3.0/10 (mood: Awful)\n",
      "   15/08/2020: 3.0/10 (mood: Awful)\n",
      "\n",
      "📅 MONTHLY AVERAGE SCORES:\n",
      "   2020-04: 7.88/10\n",
      "   2020-05: 8.56/10\n",
      "   2020-06: 7.42/10\n",
      "   2020-07: 8.12/10\n",
      "   2020-08: 6.06/10\n",
      "   2020-09: 8.08/10\n",
      "   2020-10: 8.25/10\n",
      "   2020-11: 9.35/10\n",
      "   2020-12: 8.4/10\n",
      "   2021-01: 9.14/10\n",
      "   2021-02: 9.01/10\n",
      "   2021-03: 9.03/10\n",
      "   2021-04: 8.98/10\n",
      "\n",
      "📦 File size: 93,303 bytes (91.1 KB)\n",
      "📥 Ready for download: /Users/matthewsimon/Projects/solopro/test/Daylio_Daily_Log_Form_Ready_with_Average.csv\n",
      "\n",
      "🎯 WHAT'S NEW:\n",
      "✨ Added 'average_score' column - calculates the mean of:\n",
      "   • form_overallMood (1-10)\n",
      "   • form_workSatisfaction (1-10)\n",
      "   • form_personalLifeSatisfaction (1-10)\n",
      "   • form_balanceRating (1-10)\n",
      "✨ Average scores range from 2.25 to 10.0\n",
      "✨ Overall average across all days: 8.30/10\n"
     ]
    }
   ],
   "source": [
    "# Export the updated dataframe with average_score column\n",
    "updated_output_path = \"/Users/matthewsimon/Projects/solopro/test/Daylio_Daily_Log_Form_Ready_with_Average.csv\"\n",
    "form_df.to_csv(updated_output_path, index=False)\n",
    "\n",
    "print(f\"✅ UPDATED CSV EXPORTED WITH AVERAGE_SCORE COLUMN!\")\n",
    "print(f\"📁 File: {updated_output_path}\")\n",
    "\n",
    "print(f\"\\n📊 FINAL DATAFRAME SUMMARY:\")\n",
    "print(\"=\" * 50)\n",
    "print(f\"Total rows: {len(form_df)}\")\n",
    "print(f\"Total columns: {len(form_df.columns)}\")\n",
    "print(f\"Date range: {form_df['date'].min()} to {form_df['date'].max()}\")\n",
    "\n",
    "print(f\"\\n📋 ALL COLUMNS:\")\n",
    "for i, col in enumerate(form_df.columns, 1):\n",
    "    if col == 'average_score':\n",
    "        print(f\"  {i:2d}. {col} ⭐ (NEW)\")\n",
    "    else:\n",
    "        print(f\"  {i:2d}. {col}\")\n",
    "\n",
    "# Show some interesting insights about the average scores\n",
    "print(f\"\\n🏆 AVERAGE SCORE INSIGHTS:\")\n",
    "print(\"=\" * 40)\n",
    "\n",
    "# Best days\n",
    "best_days = form_df.nlargest(5, 'average_score')[['date', 'original_mood', 'average_score']]\n",
    "print(f\"🥇 TOP 5 BEST DAYS (by average score):\")\n",
    "for _, row in best_days.iterrows():\n",
    "    print(f\"   {row['date']}: {row['average_score']}/10 (mood: {row['original_mood']})\")\n",
    "\n",
    "# Worst days  \n",
    "worst_days = form_df.nsmallest(5, 'average_score')[['date', 'original_mood', 'average_score']]\n",
    "print(f\"\\n📉 TOP 5 CHALLENGING DAYS (by average score):\")\n",
    "for _, row in worst_days.iterrows():\n",
    "    print(f\"   {row['date']}: {row['average_score']}/10 (mood: {row['original_mood']})\")\n",
    "\n",
    "# Monthly trends\n",
    "form_df['month'] = pd.to_datetime(form_df['date'], format='%d/%m/%Y').dt.strftime('%Y-%m')\n",
    "monthly_avg = form_df.groupby('month')['average_score'].mean().round(2)\n",
    "print(f\"\\n📅 MONTHLY AVERAGE SCORES:\")\n",
    "for month, avg in monthly_avg.items():\n",
    "    print(f\"   {month}: {avg}/10\")\n",
    "\n",
    "# Show file size\n",
    "import os\n",
    "file_size = os.path.getsize(updated_output_path)\n",
    "print(f\"\\n📦 File size: {file_size:,} bytes ({file_size/1024:.1f} KB)\")\n",
    "print(f\"📥 Ready for download: {updated_output_path}\")\n",
    "\n",
    "print(f\"\\n🎯 WHAT'S NEW:\")\n",
    "print(\"✨ Added 'average_score' column - calculates the mean of:\")\n",
    "print(\"   • form_overallMood (1-10)\")  \n",
    "print(\"   • form_workSatisfaction (1-10)\")\n",
    "print(\"   • form_personalLifeSatisfaction (1-10)\")\n",
    "print(\"   • form_balanceRating (1-10)\")\n",
    "print(f\"✨ Average scores range from {form_df['average_score'].min()} to {form_df['average_score'].max()}\")\n",
    "print(f\"✨ Overall average across all days: {form_df['average_score'].mean():.2f}/10\")"
   ]
  },
  {
   "cell_type": "code",
   "execution_count": 25,
   "id": "6319e628",
   "metadata": {},
   "outputs": [
    {
     "name": "stdout",
     "output_type": "stream",
     "text": [
      "Defaulting to user installation because normal site-packages is not writeable\n",
      "Collecting matplotlib\n",
      "  Downloading matplotlib-3.9.4-cp39-cp39-macosx_11_0_arm64.whl (7.8 MB)\n",
      "\u001b[K     |████████████████████████████████| 7.8 MB 2.5 MB/s eta 0:00:01\n",
      "\u001b[?25hCollecting seaborn\n",
      "  Downloading seaborn-0.13.2-py3-none-any.whl (294 kB)\n",
      "\u001b[K     |████████████████████████████████| 294 kB 20.1 MB/s eta 0:00:01\n",
      "\u001b[?25hCollecting plotly\n",
      "  Downloading plotly-6.2.0-py3-none-any.whl (9.6 MB)\n",
      "\u001b[K     |████████████████████████████████| 9.6 MB 25.6 MB/s eta 0:00:01\n",
      "\u001b[?25hRequirement already satisfied: numpy>=1.23 in /Users/matthewsimon/Library/Python/3.9/lib/python/site-packages (from matplotlib) (2.0.2)\n",
      "Collecting cycler>=0.10\n",
      "  Downloading cycler-0.12.1-py3-none-any.whl (8.3 kB)\n",
      "Collecting contourpy>=1.0.1\n",
      "  Downloading contourpy-1.3.0-cp39-cp39-macosx_11_0_arm64.whl (249 kB)\n",
      "\u001b[K     |████████████████████████████████| 249 kB 20.9 MB/s eta 0:00:01\n",
      "\u001b[?25hCollecting kiwisolver>=1.3.1\n",
      "  Downloading kiwisolver-1.4.7-cp39-cp39-macosx_11_0_arm64.whl (64 kB)\n",
      "\u001b[K     |████████████████████████████████| 64 kB 20.3 MB/s eta 0:00:01\n",
      "\u001b[?25hRequirement already satisfied: packaging>=20.0 in /Users/matthewsimon/Library/Python/3.9/lib/python/site-packages (from matplotlib) (25.0)\n",
      "Collecting importlib-resources>=3.2.0\n",
      "  Downloading importlib_resources-6.5.2-py3-none-any.whl (37 kB)\n",
      "Collecting fonttools>=4.22.0\n",
      "  Downloading fonttools-4.58.5-cp39-cp39-macosx_10_9_universal2.whl (2.8 MB)\n",
      "\u001b[K     |████████████████████████████████| 2.8 MB 3.2 MB/s eta 0:00:01\n",
      "\u001b[?25hCollecting pillow>=8\n",
      "  Downloading pillow-11.3.0-cp39-cp39-macosx_11_0_arm64.whl (4.7 MB)\n",
      "\u001b[K     |████████████████████████████████| 4.7 MB 9.8 MB/s eta 0:00:01\n",
      "\u001b[?25hRequirement already satisfied: python-dateutil>=2.7 in /Users/matthewsimon/Library/Python/3.9/lib/python/site-packages (from matplotlib) (2.9.0.post0)\n",
      "Collecting pyparsing>=2.3.1\n",
      "  Downloading pyparsing-3.2.3-py3-none-any.whl (111 kB)\n",
      "\u001b[K     |████████████████████████████████| 111 kB 34.7 MB/s eta 0:00:01\n",
      "\u001b[?25hRequirement already satisfied: pandas>=1.2 in /Users/matthewsimon/Library/Python/3.9/lib/python/site-packages (from seaborn) (2.3.1)\n",
      "Collecting narwhals>=1.15.1\n",
      "  Downloading narwhals-1.47.0-py3-none-any.whl (374 kB)\n",
      "\u001b[K     |████████████████████████████████| 374 kB 16.3 MB/s eta 0:00:01\n",
      "\u001b[?25hRequirement already satisfied: zipp>=3.1.0 in /Users/matthewsimon/Library/Python/3.9/lib/python/site-packages (from importlib-resources>=3.2.0->matplotlib) (3.21.0)\n",
      "Requirement already satisfied: tzdata>=2022.7 in /Users/matthewsimon/Library/Python/3.9/lib/python/site-packages (from pandas>=1.2->seaborn) (2025.2)\n",
      "Requirement already satisfied: pytz>=2020.1 in /Users/matthewsimon/Library/Python/3.9/lib/python/site-packages (from pandas>=1.2->seaborn) (2025.2)\n",
      "Requirement already satisfied: six>=1.5 in /Library/Developer/CommandLineTools/Library/Frameworks/Python3.framework/Versions/3.9/lib/python3.9/site-packages (from python-dateutil>=2.7->matplotlib) (1.15.0)\n",
      "Installing collected packages: pyparsing, pillow, kiwisolver, importlib-resources, fonttools, cycler, contourpy, narwhals, matplotlib, seaborn, plotly\n",
      "Successfully installed contourpy-1.3.0 cycler-0.12.1 fonttools-4.58.5 importlib-resources-6.5.2 kiwisolver-1.4.7 matplotlib-3.9.4 narwhals-1.47.0 pillow-11.3.0 plotly-6.2.0 pyparsing-3.2.3 seaborn-0.13.2\n",
      "\u001b[33mWARNING: You are using pip version 21.2.4; however, version 25.1.1 is available.\n",
      "You should consider upgrading via the '/Library/Developer/CommandLineTools/usr/bin/python3 -m pip install --upgrade pip' command.\u001b[0m\n",
      "Note: you may need to restart the kernel to use updated packages.\n"
     ]
    }
   ],
   "source": [
    "# Install required visualization libraries\n",
    "%pip install matplotlib seaborn plotly"
   ]
  },
  {
   "cell_type": "code",
   "execution_count": 26,
   "id": "35f462df",
   "metadata": {},
   "outputs": [
    {
     "name": "stderr",
     "output_type": "stream",
     "text": [
      "Matplotlib is building the font cache; this may take a moment.\n"
     ]
    },
    {
     "name": "stdout",
     "output_type": "stream",
     "text": [
      "📊 Visualization libraries loaded successfully!\n",
      "🎨 Ready to create comprehensive charts for average score distribution\n"
     ]
    }
   ],
   "source": [
    "# Import visualization libraries\n",
    "import matplotlib.pyplot as plt\n",
    "import seaborn as sns\n",
    "import plotly.express as px\n",
    "import plotly.graph_objects as go\n",
    "from plotly.subplots import make_subplots\n",
    "import numpy as np\n",
    "\n",
    "# Set up plotting configuration\n",
    "plt.style.use('seaborn-v0_8')\n",
    "sns.set_palette(\"husl\")\n",
    "plt.rcParams['figure.figsize'] = (12, 8)\n",
    "plt.rcParams['font.size'] = 10\n",
    "\n",
    "print(\"📊 Visualization libraries loaded successfully!\")\n",
    "print(\"🎨 Ready to create comprehensive charts for average score distribution\")"
   ]
  },
  {
   "cell_type": "code",
   "execution_count": 27,
   "id": "b113869b",
   "metadata": {},
   "outputs": [
    {
     "name": "stdout",
     "output_type": "stream",
     "text": [
      "🥧 Creating Pie Chart for Average Score Distribution\n",
      "=======================================================\n"
     ]
    },
    {
     "name": "stderr",
     "output_type": "stream",
     "text": [
      "/var/folders/jb/6z7nmj212x3_86_b61z9vgkm0000gn/T/ipykernel_28748/3782802155.py:57: UserWarning: Glyph 128202 (\\N{BAR CHART}) missing from font(s) Arial.\n",
      "  plt.tight_layout()\n",
      "/var/folders/jb/6z7nmj212x3_86_b61z9vgkm0000gn/T/ipykernel_28748/3782802155.py:57: UserWarning: Glyph 128200 (\\N{CHART WITH UPWARDS TREND}) missing from font(s) Arial.\n",
      "  plt.tight_layout()\n",
      "/Users/matthewsimon/Library/Python/3.9/lib/python/site-packages/IPython/core/pylabtools.py:152: UserWarning: Glyph 128202 (\\N{BAR CHART}) missing from font(s) Arial.\n",
      "  fig.canvas.print_figure(bytes_io, **kw)\n",
      "/Users/matthewsimon/Library/Python/3.9/lib/python/site-packages/IPython/core/pylabtools.py:152: UserWarning: Glyph 128200 (\\N{CHART WITH UPWARDS TREND}) missing from font(s) Arial.\n",
      "  fig.canvas.print_figure(bytes_io, **kw)\n"
     ]
    },
    {
     "data": {
      "image/png": "[encoded data removed]",
      "text/plain": [
       "<Figure size 1600x800 with 2 Axes>"
      ]
     },
     "metadata": {},
     "output_type": "display_data"
    },
    {
     "name": "stdout",
     "output_type": "stream",
     "text": [
      "\n",
      "📈 DISTRIBUTION SUMMARY:\n",
      "==================================================\n",
      "🏆 Excellent: 221 days ( 59.4%)\n",
      "🥇 Very Good:  31 days (  8.3%)\n",
      "😊 Good:  43 days ( 11.6%)\n",
      "👍 Above Average:  26 days (  7.0%)\n",
      "😐 Average:  19 days (  5.1%)\n",
      "😞 Below Average:  32 days (  8.6%)\n",
      "\n",
      "✨ KEY INSIGHTS:\n",
      "   🎯 Positive days (Good+): 295 days (79.3%)\n",
      "   ⚠️  Challenging days (Average-): 51 days (13.7%)\n",
      "   📊 Most common category: Excellent (221 days)\n"
     ]
    }
   ],
   "source": [
    "# 📊 CHART 1: PIE CHART - Average Score Distribution\n",
    "print(\"🥧 Creating Pie Chart for Average Score Distribution\")\n",
    "print(\"=\" * 55)\n",
    "\n",
    "# Prepare data for visualization\n",
    "score_ranges = [\n",
    "    (9.0, 10.0, \"Excellent\", \"#2E8B57\"),      # Sea Green\n",
    "    (8.0, 8.99, \"Very Good\", \"#32CD32\"),     # Lime Green  \n",
    "    (7.0, 7.99, \"Good\", \"#FFD700\"),          # Gold\n",
    "    (6.0, 6.99, \"Above Average\", \"#FFA500\"), # Orange\n",
    "    (5.0, 5.99, \"Average\", \"#FF6347\"),       # Tomato\n",
    "    (0.0, 4.99, \"Below Average\", \"#DC143C\")  # Crimson\n",
    "]\n",
    "\n",
    "# Calculate counts and percentages\n",
    "categories = []\n",
    "counts = []\n",
    "colors = []\n",
    "percentages = []\n",
    "\n",
    "for min_val, max_val, label, color in score_ranges:\n",
    "    count = len(form_df[(form_df['average_score'] >= min_val) & (form_df['average_score'] <= max_val)])\n",
    "    percentage = (count / len(form_df)) * 100\n",
    "    \n",
    "    categories.append(f\"{label}\\n({min_val}-{max_val})\")\n",
    "    counts.append(count)\n",
    "    colors.append(color)\n",
    "    percentages.append(percentage)\n",
    "\n",
    "# Create the pie chart\n",
    "fig, (ax1, ax2) = plt.subplots(1, 2, figsize=(16, 8))\n",
    "\n",
    "# Pie chart\n",
    "wedges, texts, autotexts = ax1.pie(counts, labels=categories, colors=colors, autopct='%1.1f%%', \n",
    "                                   startangle=90, textprops={'fontsize': 10})\n",
    "ax1.set_title('📊 Average Score Distribution\\n(372 Days of Data)', fontsize=16, fontweight='bold', pad=20)\n",
    "\n",
    "# Make percentage text bold and white\n",
    "for autotext in autotexts:\n",
    "    autotext.set_color('white')\n",
    "    autotext.set_fontweight('bold')\n",
    "    autotext.set_fontsize(11)\n",
    "\n",
    "# Bar chart companion\n",
    "ax2.bar(range(len(categories)), counts, color=colors, alpha=0.8)\n",
    "ax2.set_xlabel('Score Categories', fontsize=12, fontweight='bold')\n",
    "ax2.set_ylabel('Number of Days', fontsize=12, fontweight='bold')\n",
    "ax2.set_title('📈 Daily Count by Score Category', fontsize=14, fontweight='bold')\n",
    "ax2.set_xticks(range(len(categories)))\n",
    "ax2.set_xticklabels([cat.split('\\n')[0] for cat in categories], rotation=45, ha='right')\n",
    "\n",
    "# Add value labels on bars\n",
    "for i, count in enumerate(counts):\n",
    "    ax2.text(i, count + 5, f'{count}\\n({percentages[i]:.1f}%)', \n",
    "             ha='center', va='bottom', fontweight='bold', fontsize=10)\n",
    "\n",
    "plt.tight_layout()\n",
    "plt.show()\n",
    "\n",
    "# Print summary statistics\n",
    "print(f\"\\n📈 DISTRIBUTION SUMMARY:\")\n",
    "print(f\"{'='*50}\")\n",
    "for i, (cat, count, pct) in enumerate(zip(categories, counts, percentages)):\n",
    "    emoji = [\"🏆\", \"🥇\", \"😊\", \"👍\", \"😐\", \"😞\"][i]\n",
    "    print(f\"{emoji} {cat.split('(')[0].strip()}: {count:3d} days ({pct:5.1f}%)\")\n",
    "\n",
    "total_positive = sum(counts[:3])  # Excellent + Very Good + Good\n",
    "total_negative = sum(counts[4:])  # Average + Below Average\n",
    "print(f\"\\n✨ KEY INSIGHTS:\")\n",
    "print(f\"   🎯 Positive days (Good+): {total_positive} days ({total_positive/len(form_df)*100:.1f}%)\")\n",
    "print(f\"   ⚠️  Challenging days (Average-): {total_negative} days ({total_negative/len(form_df)*100:.1f}%)\")\n",
    "print(f\"   📊 Most common category: {categories[counts.index(max(counts))].split('(')[0].strip()} ({max(counts)} days)\")"
   ]
  },
  {
   "cell_type": "code",
   "execution_count": 28,
   "id": "13e60964",
   "metadata": {},
   "outputs": [
    {
     "name": "stdout",
     "output_type": "stream",
     "text": [
      "\n",
      "📅 Creating Time Series Chart for Average Score Trends\n",
      "=======================================================\n"
     ]
    },
    {
     "name": "stderr",
     "output_type": "stream",
     "text": [
      "/var/folders/jb/6z7nmj212x3_86_b61z9vgkm0000gn/T/ipykernel_28748/903035709.py:65: UserWarning: Glyph 128200 (\\N{CHART WITH UPWARDS TREND}) missing from font(s) Arial.\n",
      "  plt.tight_layout()\n",
      "/var/folders/jb/6z7nmj212x3_86_b61z9vgkm0000gn/T/ipykernel_28748/903035709.py:65: UserWarning: Glyph 128202 (\\N{BAR CHART}) missing from font(s) Arial.\n",
      "  plt.tight_layout()\n",
      "/Users/matthewsimon/Library/Python/3.9/lib/python/site-packages/IPython/core/pylabtools.py:152: UserWarning: Glyph 128200 (\\N{CHART WITH UPWARDS TREND}) missing from font(s) Arial.\n",
      "  fig.canvas.print_figure(bytes_io, **kw)\n",
      "/Users/matthewsimon/Library/Python/3.9/lib/python/site-packages/IPython/core/pylabtools.py:152: UserWarning: Glyph 128202 (\\N{BAR CHART}) missing from font(s) Arial.\n",
      "  fig.canvas.print_figure(bytes_io, **kw)\n"
     ]
    },
    {
     "data": {
      "image/png": "[encoded data removed]",
      "text/plain": [
       "<Figure size 1600x1200 with 2 Axes>"
      ]
     },
     "metadata": {},
     "output_type": "display_data"
    },
    {
     "name": "stdout",
     "output_type": "stream",
     "text": [
      "\n",
      "📊 TIME SERIES INSIGHTS:\n",
      "==================================================\n",
      "🏆 Best month: November 2020 (9.35/10)\n",
      "📉 Lowest month: August 2020 (6.06/10)\n",
      "📈 Overall trend: upward 📈 (0.0047 per day)\n",
      "📏 Score consistency: 1.86 standard deviation\n",
      "   → Moderately consistent performance\n"
     ]
    }
   ],
   "source": [
    "# 📈 CHART 2: TIME SERIES - Average Score Trends Over Time\n",
    "print(\"\\n📅 Creating Time Series Chart for Average Score Trends\")\n",
    "print(\"=\" * 55)\n",
    "\n",
    "# Prepare time series data\n",
    "form_df['date_dt'] = pd.to_datetime(form_df['date'], format='%d/%m/%Y')\n",
    "form_df_sorted = form_df.sort_values('date_dt')\n",
    "\n",
    "# Create the time series plot\n",
    "fig, (ax1, ax2) = plt.subplots(2, 1, figsize=(16, 12))\n",
    "\n",
    "# Main time series plot\n",
    "ax1.plot(form_df_sorted['date_dt'], form_df_sorted['average_score'], \n",
    "         linewidth=2, alpha=0.7, color='#1f77b4', marker='o', markersize=3)\n",
    "\n",
    "# Add score range background colors\n",
    "ax1.axhspan(9.0, 10.0, alpha=0.1, color='#2E8B57', label='Excellent (9.0-10.0)')\n",
    "ax1.axhspan(8.0, 8.99, alpha=0.1, color='#32CD32', label='Very Good (8.0-8.99)')\n",
    "ax1.axhspan(7.0, 7.99, alpha=0.1, color='#FFD700', label='Good (7.0-7.99)')\n",
    "ax1.axhspan(6.0, 6.99, alpha=0.1, color='#FFA500', label='Above Average (6.0-6.99)')\n",
    "ax1.axhspan(5.0, 5.99, alpha=0.1, color='#FF6347', label='Average (5.0-5.99)')\n",
    "ax1.axhspan(0.0, 4.99, alpha=0.1, color='#DC143C', label='Below Average (0.0-4.99)')\n",
    "\n",
    "# Add 30-day rolling average\n",
    "rolling_avg = form_df_sorted['average_score'].rolling(window=30, center=True).mean()\n",
    "ax1.plot(form_df_sorted['date_dt'], rolling_avg, \n",
    "         linewidth=3, color='red', alpha=0.8, label='30-Day Rolling Average')\n",
    "\n",
    "ax1.set_title('📈 Daily Average Scores Over Time\\n(April 2020 - April 2021)', \n",
    "              fontsize=16, fontweight='bold', pad=20)\n",
    "ax1.set_xlabel('Date', fontsize=12, fontweight='bold')\n",
    "ax1.set_ylabel('Average Score', fontsize=12, fontweight='bold')\n",
    "ax1.grid(True, alpha=0.3)\n",
    "ax1.legend(bbox_to_anchor=(1.05, 1), loc='upper left')\n",
    "ax1.set_ylim(0, 10.5)\n",
    "\n",
    "# Monthly aggregation chart\n",
    "monthly_data = form_df_sorted.groupby(form_df_sorted['date_dt'].dt.to_period('M')).agg({\n",
    "    'average_score': ['mean', 'std', 'count']\n",
    "}).round(2)\n",
    "monthly_data.columns = ['mean_score', 'std_score', 'day_count']\n",
    "monthly_data.index = monthly_data.index.to_timestamp()\n",
    "\n",
    "# Monthly bar chart with error bars\n",
    "bars = ax2.bar(monthly_data.index, monthly_data['mean_score'], \n",
    "               yerr=monthly_data['std_score'], capsize=5, \n",
    "               alpha=0.7, color='#ff7f0e', edgecolor='black', linewidth=1)\n",
    "\n",
    "# Add value labels on bars\n",
    "for i, (date, row) in enumerate(monthly_data.iterrows()):\n",
    "    ax2.text(date, row['mean_score'] + row['std_score'] + 0.1, \n",
    "             f'{row[\"mean_score\"]:.1f}\\n({row[\"day_count\"]} days)', \n",
    "             ha='center', va='bottom', fontweight='bold', fontsize=9)\n",
    "\n",
    "ax2.set_title('📊 Monthly Average Scores with Standard Deviation', \n",
    "              fontsize=14, fontweight='bold', pad=15)\n",
    "ax2.set_xlabel('Month', fontsize=12, fontweight='bold')\n",
    "ax2.set_ylabel('Average Score', fontsize=12, fontweight='bold')\n",
    "ax2.grid(True, alpha=0.3, axis='y')\n",
    "ax2.set_ylim(0, 10.5)\n",
    "\n",
    "# Rotate month labels\n",
    "ax2.tick_params(axis='x', rotation=45)\n",
    "\n",
    "plt.tight_layout()\n",
    "plt.show()\n",
    "\n",
    "# Analysis insights\n",
    "print(f\"\\n📊 TIME SERIES INSIGHTS:\")\n",
    "print(f\"{'='*50}\")\n",
    "best_month = monthly_data['mean_score'].idxmax().strftime('%B %Y')\n",
    "worst_month = monthly_data['mean_score'].idxmin().strftime('%B %Y')\n",
    "print(f\"🏆 Best month: {best_month} ({monthly_data['mean_score'].max():.2f}/10)\")\n",
    "print(f\"📉 Lowest month: {worst_month} ({monthly_data['mean_score'].min():.2f}/10)\")\n",
    "\n",
    "# Trend analysis\n",
    "score_trend = np.polyfit(range(len(form_df_sorted)), form_df_sorted['average_score'], 1)[0]\n",
    "trend_direction = \"upward 📈\" if score_trend > 0 else \"downward 📉\" if score_trend < 0 else \"stable ➡️\"\n",
    "print(f\"📈 Overall trend: {trend_direction} ({score_trend:.4f} per day)\")\n",
    "\n",
    "# Consistency analysis\n",
    "overall_std = form_df_sorted['average_score'].std()\n",
    "print(f\"📏 Score consistency: {overall_std:.2f} standard deviation\")\n",
    "consistency_rating = \"Very consistent\" if overall_std < 1.5 else \"Moderately consistent\" if overall_std < 2.5 else \"Highly variable\"\n",
    "print(f\"   → {consistency_rating} performance\")"
   ]
  },
  {
   "cell_type": "code",
   "execution_count": 29,
   "id": "173c217d",
   "metadata": {},
   "outputs": [
    {
     "name": "stdout",
     "output_type": "stream",
     "text": [
      "\n",
      "🔥 Creating Heatmap for Score Patterns Analysis\n",
      "=======================================================\n"
     ]
    },
    {
     "name": "stderr",
     "output_type": "stream",
     "text": [
      "/Users/matthewsimon/Library/Python/3.9/lib/python/site-packages/seaborn/utils.py:61: UserWarning: Glyph 128467 (\\N{SPIRAL CALENDAR PAD}) missing from font(s) Arial.\n",
      "  fig.canvas.draw()\n",
      "/Users/matthewsimon/Library/Python/3.9/lib/python/site-packages/seaborn/utils.py:61: UserWarning: Glyph 65039 (\\N{VARIATION SELECTOR-16}) missing from font(s) Arial.\n",
      "  fig.canvas.draw()\n",
      "/var/folders/jb/6z7nmj212x3_86_b61z9vgkm0000gn/T/ipykernel_28748/326500772.py:44: UserWarning: Glyph 128200 (\\N{CHART WITH UPWARDS TREND}) missing from font(s) Arial.\n",
      "  plt.tight_layout()\n",
      "/Users/matthewsimon/Library/Python/3.9/lib/python/site-packages/IPython/core/pylabtools.py:152: UserWarning: Glyph 128467 (\\N{SPIRAL CALENDAR PAD}) missing from font(s) Arial.\n",
      "  fig.canvas.print_figure(bytes_io, **kw)\n",
      "/Users/matthewsimon/Library/Python/3.9/lib/python/site-packages/IPython/core/pylabtools.py:152: UserWarning: Glyph 65039 (\\N{VARIATION SELECTOR-16}) missing from font(s) Arial.\n",
      "  fig.canvas.print_figure(bytes_io, **kw)\n",
      "/Users/matthewsimon/Library/Python/3.9/lib/python/site-packages/IPython/core/pylabtools.py:152: UserWarning: Glyph 128200 (\\N{CHART WITH UPWARDS TREND}) missing from font(s) Arial.\n",
      "  fig.canvas.print_figure(bytes_io, **kw)\n"
     ]
    },
    {
     "data": {
      "image/png": "[encoded data removed]",
      "text/plain": [
       "<Figure size 1600x1200 with 4 Axes>"
      ]
     },
     "metadata": {},
     "output_type": "display_data"
    },
    {
     "name": "stdout",
     "output_type": "stream",
     "text": [
      "\n",
      "📅 WEEKDAY ANALYSIS:\n",
      "==================================================\n",
      "Monday   :  8.53 ± 1.66 (52 days) 🌟 Excellent\n",
      "Tuesday  :  8.17 ± 1.96 (53 days) ✨ Very Good\n",
      "Wednesday:  8.21 ± 1.94 (54 days) ✨ Very Good\n",
      "Thursday :  8.76 ± 1.62 (53 days) 🌟 Excellent\n",
      "Friday   :  7.84 ± 2.07 (53 days) ✨ Very Good\n",
      "Saturday :  8.37 ± 1.85 (54 days) ✨ Very Good\n",
      "Sunday   :  8.19 ± 1.88 (53 days) ✨ Very Good\n",
      "\n",
      "🏆 Best performing day: Thursday (8.76/10)\n",
      "📉 Most challenging day: Friday (7.84/10)\n",
      "\n",
      "🏖️ WEEKEND vs WEEKDAY COMPARISON:\n",
      "Weekend average: 8.14/10 (160 days)\n",
      "Weekday average: 8.42/10 (212 days)\n",
      "Weekend scores are 0.28 points lower than weekdays\n"
     ]
    }
   ],
   "source": [
    "# 📊 CHART 3: HEATMAP - Score Patterns by Weekday and Month\n",
    "print(\"\\n🔥 Creating Heatmap for Score Patterns Analysis\")\n",
    "print(\"=\" * 55)\n",
    "\n",
    "# Prepare data for heatmap\n",
    "form_df_sorted['month_name'] = form_df_sorted['date_dt'].dt.strftime('%B %Y')\n",
    "form_df_sorted['day_of_week'] = form_df_sorted['weekday']\n",
    "\n",
    "# Create pivot tables for heatmaps\n",
    "weekday_month_scores = form_df_sorted.pivot_table(\n",
    "    values='average_score', \n",
    "    index='day_of_week', \n",
    "    columns='month_name', \n",
    "    aggfunc='mean'\n",
    ")\n",
    "\n",
    "# Reorder days of week\n",
    "weekday_order = ['Monday', 'Tuesday', 'Wednesday', 'Thursday', 'Friday', 'Saturday', 'Sunday']\n",
    "weekday_month_scores = weekday_month_scores.reindex(weekday_order)\n",
    "\n",
    "# Create the heatmap plot\n",
    "fig, (ax1, ax2) = plt.subplots(2, 1, figsize=(16, 12))\n",
    "\n",
    "# Heatmap 1: Weekday vs Month\n",
    "sns.heatmap(weekday_month_scores, annot=True, fmt='.1f', cmap='RdYlGn', \n",
    "            center=6.5, vmin=4, vmax=10, ax=ax1, cbar_kws={'label': 'Average Score'})\n",
    "ax1.set_title('🗓️ Average Scores by Weekday and Month\\n(Heatmap)', \n",
    "              fontsize=14, fontweight='bold', pad=15)\n",
    "ax1.set_xlabel('Month', fontsize=12, fontweight='bold')\n",
    "ax1.set_ylabel('Day of Week', fontsize=12, fontweight='bold')\n",
    "\n",
    "# Heatmap 2: Weekly average by month (simpler view)\n",
    "weekly_scores = form_df_sorted.groupby(['month_name', 'day_of_week'])['average_score'].mean().unstack()\n",
    "weekly_scores = weekly_scores.reindex(columns=weekday_order)\n",
    "\n",
    "sns.heatmap(weekly_scores.T, annot=True, fmt='.1f', cmap='viridis', \n",
    "            center=7.5, vmin=5, vmax=10, ax=ax2, cbar_kws={'label': 'Average Score'})\n",
    "ax2.set_title('📈 Weekly Pattern Analysis\\n(Alternative View)', \n",
    "              fontsize=14, fontweight='bold', pad=15)\n",
    "ax2.set_xlabel('Month', fontsize=12, fontweight='bold')\n",
    "ax2.set_ylabel('Day of Week', fontsize=12, fontweight='bold')\n",
    "\n",
    "plt.xticks(rotation=45)\n",
    "plt.tight_layout()\n",
    "plt.show()\n",
    "\n",
    "# Weekday analysis\n",
    "print(f\"\\n📅 WEEKDAY ANALYSIS:\")\n",
    "print(f\"{'='*50}\")\n",
    "weekday_avg = form_df_sorted.groupby('day_of_week')['average_score'].agg(['mean', 'std', 'count']).round(2)\n",
    "weekday_avg = weekday_avg.reindex(weekday_order)\n",
    "\n",
    "for day in weekday_order:\n",
    "    if day in weekday_avg.index:\n",
    "        mean_score = weekday_avg.loc[day, 'mean']\n",
    "        std_score = weekday_avg.loc[day, 'std']\n",
    "        count = weekday_avg.loc[day, 'count']\n",
    "        \n",
    "        # Determine day performance\n",
    "        if mean_score >= 8.5:\n",
    "            performance = \"🌟 Excellent\"\n",
    "        elif mean_score >= 7.5:\n",
    "            performance = \"✨ Very Good\"\n",
    "        elif mean_score >= 6.5:\n",
    "            performance = \"👍 Good\"\n",
    "        else:\n",
    "            performance = \"⚠️ Needs attention\"\n",
    "        \n",
    "        print(f\"{day:9}: {mean_score:5.2f} ± {std_score:4.2f} ({count:2d} days) {performance}\")\n",
    "\n",
    "# Find best and worst days\n",
    "best_day = weekday_avg['mean'].idxmax()\n",
    "worst_day = weekday_avg['mean'].idxmin()\n",
    "print(f\"\\n🏆 Best performing day: {best_day} ({weekday_avg.loc[best_day, 'mean']:.2f}/10)\")\n",
    "print(f\"📉 Most challenging day: {worst_day} ({weekday_avg.loc[worst_day, 'mean']:.2f}/10)\")\n",
    "\n",
    "# Weekend vs Weekday comparison\n",
    "weekend_days = ['Friday', 'Saturday', 'Sunday']\n",
    "weekday_days = ['Monday', 'Tuesday', 'Wednesday', 'Thursday']\n",
    "\n",
    "weekend_scores = form_df_sorted[form_df_sorted['day_of_week'].isin(weekend_days)]['average_score']\n",
    "weekday_scores = form_df_sorted[form_df_sorted['day_of_week'].isin(weekday_days)]['average_score']\n",
    "\n",
    "print(f\"\\n🏖️ WEEKEND vs WEEKDAY COMPARISON:\")\n",
    "print(f\"Weekend average: {weekend_scores.mean():.2f}/10 ({len(weekend_scores)} days)\")\n",
    "print(f\"Weekday average: {weekday_scores.mean():.2f}/10 ({len(weekday_scores)} days)\")\n",
    "difference = weekend_scores.mean() - weekday_scores.mean()\n",
    "trend = \"higher\" if difference > 0 else \"lower\" if difference < 0 else \"same\"\n",
    "print(f\"Weekend scores are {abs(difference):.2f} points {trend} than weekdays\")"
   ]
  },
  {
   "cell_type": "code",
   "execution_count": 30,
   "id": "db0e31e3",
   "metadata": {},
   "outputs": [
    {
     "name": "stdout",
     "output_type": "stream",
     "text": [
      "\n",
      "⚡ Creating Interactive Plotly Visualizations\n",
      "=======================================================\n"
     ]
    },
    {
     "data": {
      "application/vnd.plotly.v1+json": {
       "config": {
        "plotlyServerURL": "https://plot.ly"
       },
       "data": [
        {
         "domain": {
          "x": [
           0,
           0.45
          ],
          "y": [
           0.625,
           1
          ]
         },
         "hovertemplate": "<b>%{label}</b><br>Count: %{value}<br>Percentage: %{percent}<extra></extra>",
         "labels": [
          "Excellent",
          "Very Good",
          "Good",
          "Above Average",
          "Average",
          "Below Average"
         ],
         "marker": {
          "colors": [
           "#2E8B57",
           "#32CD32",
           "#FFD700",
           "#FFA500",
           "#FF6347",
           "#DC143C"
          ]
         },
         "name": "Score Distribution",
         "type": "pie",
         "values": [
          221,
          31,
          43,
          26,
          19,
          32
         ]
        },
        {
         "hovertemplate": "<b>%{x}</b><br>Average Score: %{y:.2f}<br>Original Mood: %{text}<extra></extra>",
         "line": {
          "width": 2
         },
         "marker": {
          "opacity": 0.7,
          "size": 6
         },
         "mode": "markers+lines",
         "name": "Daily Scores",
         "text": [
          "Amazing",
          "Good",
          "Good",
          "Normal",
          "Good",
          "Amazing",
          "Bad",
          "Amazing",
          "Good",
          "Good",
          "Amazing",
          "Amazing",
          "Good",
          "Normal",
          "Good",
          "Good",
          "Amazing",
          "Normal",
          "Good",
          "Good",
          "Amazing",
          "Amazing",
          "Amazing",
          "Good",
          "Amazing",
          "Amazing",
          "Amazing",
          "Amazing",
          "Amazing",
          "Good",
          "Amazing",
          "Amazing",
          "Amazing",
          "Bad",
          "Awful",
          "Normal",
          "Good",
          "Good",
          "Amazing",
          "Amazing",
          "Amazing",
          "Amazing",
          "Good",
          "Normal",
          "Normal",
          "Normal",
          "Good",
          "Bad",
          "Normal",
          "Normal",
          "Normal",
          "Normal",
          "Bad",
          "Normal",
          "Good",
          "Good",
          "Normal",
          "Good",
          "Amazing",
          "Amazing",
          "Good",
          "Good",
          "Good",
          "Good",
          "Amazing",
          "Normal",
          "Good",
          "Normal",
          "Normal",
          "Good",
          "Amazing",
          "Normal",
          "Amazing",
          "Normal",
          "Normal",
          "Good",
          "Good",
          "Good",
          "Normal",
          "Awful",
          "Normal",
          "Good",
          "Normal",
          "Good",
          "Good",
          "Good",
          "Amazing",
          "Good",
          "Normal",
          "Good",
          "Good",
          "Good",
          "Bad",
          "Good",
          "Normal",
          "Normal",
          "Good",
          "Good",
          "Amazing",
          "Normal",
          "Normal",
          "Normal",
          "Good",
          "Good",
          "Awful",
          "Normal",
          "Good",
          "Normal",
          "Normal",
          "Good",
          "Bad",
          "Awful",
          "Bad",
          "Awful",
          "Good",
          "Good",
          "Normal",
          "Normal",
          "Normal",
          "Bad",
          "Normal",
          "Normal",
          "Bad",
          "Awful",
          "Awful",
          "Awful",
          "Normal",
          "Awful",
          "Bad",
          "Bad",
          "Bad",
          "Good",
          "Normal",
          "Good",
          "Normal",
          "Awful",
          "Normal",
          "Normal",
          "Awful",
          "Bad",
          "Normal",
          "Normal",
          "Good",
          "Awful",
          "Normal",
          "Good",
          "Good",
          "Good",
          "Amazing",
          "Amazing",
          "Amazing",
          "Amazing",
          "Amazing",
          "Good",
          "Amazing",
          "Good",
          "Normal",
          "Good",
          "Awful",
          "Good",
          "Awful",
          "Normal",
          "Good",
          "Good",
          "Normal",
          "Bad",
          "Awful",
          "Bad",
          "Good",
          "Good",
          "Normal",
          "Bad",
          "Normal",
          "Good",
          "Normal",
          "Normal",
          "Normal",
          "Normal",
          "Normal",
          "Normal",
          "Normal",
          "Bad",
          "Bad",
          "Normal",
          "Good",
          "Good",
          "Good",
          "Good",
          "Normal",
          "Good",
          "Good",
          "Awful",
          "Normal",
          "Good",
          "Good",
          "Normal",
          "Good",
          "Good",
          "Normal",
          "Good",
          "Good",
          "Good",
          "Good",
          "Good",
          "Good",
          "Amazing",
          "Amazing",
          "Good",
          "Good",
          "Good",
          "Amazing",
          "Good",
          "Good",
          "Good",
          "Amazing",
          "Good",
          "Good",
          "Good",
          "Good",
          "Good",
          "Good",
          "Good",
          "Amazing",
          "Amazing",
          "Good",
          "Good",
          "Good",
          "Good",
          "Good",
          "Good",
          "Good",
          "Normal",
          "Good",
          "Normal",
          "Good",
          "Good",
          "Normal",
          "Good",
          "Good",
          "Good",
          "Bad",
          "Good",
          "Bad",
          "Good",
          "Good",
          "Awful",
          "Bad",
          "Good",
          "Good",
          "Good",
          "Good",
          "Awful",
          "Awful",
          "Good",
          "Good",
          "Good",
          "Good",
          "Good",
          "Good",
          "Good",
          "Normal",
          "Good",
          "Good",
          "Good",
          "Normal",
          "Amazing",
          "Good",
          "Good",
          "Amazing",
          "Amazing",
          "Normal",
          "Good",
          "Amazing",
          "Amazing",
          "Good",
          "Good",
          "Amazing",
          "Amazing",
          "Normal",
          "Good",
          "Amazing",
          "Good",
          "Good",
          "Good",
          "Normal",
          "Good",
          "Good",
          "Awful",
          "Good",
          "Good",
          "Amazing",
          "Amazing",
          "Good",
          "Good",
          "Normal",
          "Good",
          "Normal",
          "Amazing",
          "Amazing",
          "Good",
          "Good",
          "Good",
          "Good",
          "Good",
          "Good",
          "Good",
          "Good",
          "Amazing",
          "Bad",
          "Good",
          "Bad",
          "Amazing",
          "Normal",
          "Amazing",
          "Normal",
          "Amazing",
          "Normal",
          "Good",
          "Good",
          "Normal",
          "Good",
          "Good",
          "Good",
          "Good",
          "Good",
          "Awful",
          "Good",
          "Good",
          "Good",
          "Normal",
          "Good",
          "Good",
          "Normal",
          "Good",
          "Good",
          "Amazing",
          "Good",
          "Good",
          "Good",
          "Good",
          "Normal",
          "Good",
          "Good",
          "Good",
          "Good",
          "Normal",
          "Good",
          "Good",
          "Good",
          "Normal",
          "Amazing",
          "Good",
          "Good",
          "Good",
          "Normal",
          "Good",
          "Good",
          "Amazing",
          "Good",
          "Good",
          "Good",
          "Good",
          "Good",
          "Amazing",
          "Good",
          "Good",
          "Normal",
          "Awful",
          "Normal",
          "Normal",
          "Good",
          "Good"
         ],
         "type": "scatter",
         "x": [
          "2020-04-16T00:00:00.000000000",
          "2020-04-17T00:00:00.000000000",
          "2020-04-18T00:00:00.000000000",
          "2020-04-19T00:00:00.000000000",
          "2020-04-20T00:00:00.000000000",
          "2020-04-21T00:00:00.000000000",
          "2020-04-22T00:00:00.000000000",
          "2020-04-23T00:00:00.000000000",
          "2020-04-24T00:00:00.000000000",
          "2020-04-25T00:00:00.000000000",
          "2020-04-26T00:00:00.000000000",
          "2020-04-27T00:00:00.000000000",
          "2020-04-28T00:00:00.000000000",
          "2020-04-29T00:00:00.000000000",
          "2020-04-30T00:00:00.000000000",
          "2020-05-01T00:00:00.000000000",
          "2020-05-02T00:00:00.000000000",
          "2020-05-03T00:00:00.000000000",
          "2020-05-04T00:00:00.000000000",
          "2020-05-05T00:00:00.000000000",
          "2020-05-06T00:00:00.000000000",
          "2020-05-07T00:00:00.000000000",
          "2020-05-08T00:00:00.000000000",
          "2020-05-09T00:00:00.000000000",
          "2020-05-10T00:00:00.000000000",
          "2020-05-11T00:00:00.000000000",
          "2020-05-12T00:00:00.000000000",
          "2020-05-13T00:00:00.000000000",
          "2020-05-14T00:00:00.000000000",
          "2020-05-15T00:00:00.000000000",
          "2020-05-16T00:00:00.000000000",
          "2020-05-17T00:00:00.000000000",
          "2020-05-18T00:00:00.000000000",
          "2020-05-19T00:00:00.000000000",
          "2020-05-20T00:00:00.000000000",
          "2020-05-21T00:00:00.000000000",
          "2020-05-22T00:00:00.000000000",
          "2020-05-23T00:00:00.000000000",
          "2020-05-24T00:00:00.000000000",
          "2020-05-25T00:00:00.000000000",
          "2020-05-26T00:00:00.000000000",
          "2020-05-27T00:00:00.000000000",
          "2020-05-28T00:00:00.000000000",
          "2020-05-29T00:00:00.000000000",
          "2020-05-30T00:00:00.000000000",
          "2020-05-31T00:00:00.000000000",
          "2020-06-01T00:00:00.000000000",
          "2020-06-02T00:00:00.000000000",
          "2020-06-03T00:00:00.000000000",
          "2020-06-04T00:00:00.000000000",
          "2020-06-05T00:00:00.000000000",
          "2020-06-06T00:00:00.000000000",
          "2020-06-07T00:00:00.000000000",
          "2020-06-08T00:00:00.000000000",
          "2020-06-09T00:00:00.000000000",
          "2020-06-10T00:00:00.000000000",
          "2020-06-11T00:00:00.000000000",
          "2020-06-12T00:00:00.000000000",
          "2020-06-13T00:00:00.000000000",
          "2020-06-14T00:00:00.000000000",
          "2020-06-15T00:00:00.000000000",
          "2020-06-16T00:00:00.000000000",
          "2020-06-17T00:00:00.000000000",
          "2020-06-18T00:00:00.000000000",
          "2020-06-19T00:00:00.000000000",
          "2020-06-20T00:00:00.000000000",
          "2020-06-21T00:00:00.000000000",
          "2020-06-22T00:00:00.000000000",
          "2020-06-23T00:00:00.000000000",
          "2020-06-24T00:00:00.000000000",
          "2020-06-25T00:00:00.000000000",
          "2020-06-26T00:00:00.000000000",
          "2020-06-27T00:00:00.000000000",
          "2020-06-28T00:00:00.000000000",
          "2020-06-29T00:00:00.000000000",
          "2020-06-30T00:00:00.000000000",
          "2020-07-01T00:00:00.000000000",
          "2020-07-02T00:00:00.000000000",
          "2020-07-03T00:00:00.000000000",
          "2020-07-04T00:00:00.000000000",
          "2020-07-05T00:00:00.000000000",
          "2020-07-06T00:00:00.000000000",
          "2020-07-07T00:00:00.000000000",
          "2020-07-08T00:00:00.000000000",
          "2020-07-09T00:00:00.000000000",
          "2020-07-10T00:00:00.000000000",
          "2020-07-11T00:00:00.000000000",
          "2020-07-12T00:00:00.000000000",
          "2020-07-13T00:00:00.000000000",
          "2020-07-14T00:00:00.000000000",
          "2020-07-15T00:00:00.000000000",
          "2020-07-16T00:00:00.000000000",
          "2020-07-17T00:00:00.000000000",
          "2020-07-18T00:00:00.000000000",
          "2020-07-19T00:00:00.000000000",
          "2020-07-20T00:00:00.000000000",
          "2020-07-21T00:00:00.000000000",
          "2020-07-22T00:00:00.000000000",
          "2020-07-23T00:00:00.000000000",
          "2020-07-24T00:00:00.000000000",
          "2020-07-25T00:00:00.000000000",
          "2020-07-26T00:00:00.000000000",
          "2020-07-27T00:00:00.000000000",
          "2020-07-28T00:00:00.000000000",
          "2020-07-29T00:00:00.000000000",
          "2020-07-30T00:00:00.000000000",
          "2020-07-31T00:00:00.000000000",
          "2020-08-01T00:00:00.000000000",
          "2020-08-02T00:00:00.000000000",
          "2020-08-03T00:00:00.000000000",
          "2020-08-04T00:00:00.000000000",
          "2020-08-05T00:00:00.000000000",
          "2020-08-06T00:00:00.000000000",
          "2020-08-07T00:00:00.000000000",
          "2020-08-08T00:00:00.000000000",
          "2020-08-09T00:00:00.000000000",
          "2020-08-10T00:00:00.000000000",
          "2020-08-11T00:00:00.000000000",
          "2020-08-12T00:00:00.000000000",
          "2020-08-13T00:00:00.000000000",
          "2020-08-14T00:00:00.000000000",
          "2020-08-15T00:00:00.000000000",
          "2020-08-15T00:00:00.000000000",
          "2020-08-15T00:00:00.000000000",
          "2020-08-16T00:00:00.000000000",
          "2020-08-16T00:00:00.000000000",
          "2020-08-17T00:00:00.000000000",
          "2020-08-18T00:00:00.000000000",
          "2020-08-19T00:00:00.000000000",
          "2020-08-19T00:00:00.000000000",
          "2020-08-20T00:00:00.000000000",
          "2020-08-21T00:00:00.000000000",
          "2020-08-22T00:00:00.000000000",
          "2020-08-23T00:00:00.000000000",
          "2020-08-24T00:00:00.000000000",
          "2020-08-25T00:00:00.000000000",
          "2020-08-26T00:00:00.000000000",
          "2020-08-27T00:00:00.000000000",
          "2020-08-28T00:00:00.000000000",
          "2020-08-29T00:00:00.000000000",
          "2020-08-30T00:00:00.000000000",
          "2020-08-31T00:00:00.000000000",
          "2020-09-01T00:00:00.000000000",
          "2020-09-01T00:00:00.000000000",
          "2020-09-02T00:00:00.000000000",
          "2020-09-03T00:00:00.000000000",
          "2020-09-04T00:00:00.000000000",
          "2020-09-05T00:00:00.000000000",
          "2020-09-06T00:00:00.000000000",
          "2020-09-07T00:00:00.000000000",
          "2020-09-08T00:00:00.000000000",
          "2020-09-09T00:00:00.000000000",
          "2020-09-10T00:00:00.000000000",
          "2020-09-11T00:00:00.000000000",
          "2020-09-12T00:00:00.000000000",
          "2020-09-13T00:00:00.000000000",
          "2020-09-14T00:00:00.000000000",
          "2020-09-15T00:00:00.000000000",
          "2020-09-16T00:00:00.000000000",
          "2020-09-17T00:00:00.000000000",
          "2020-09-18T00:00:00.000000000",
          "2020-09-19T00:00:00.000000000",
          "2020-09-20T00:00:00.000000000",
          "2020-09-21T00:00:00.000000000",
          "2020-09-22T00:00:00.000000000",
          "2020-09-23T00:00:00.000000000",
          "2020-09-24T00:00:00.000000000",
          "2020-09-25T00:00:00.000000000",
          "2020-09-26T00:00:00.000000000",
          "2020-09-27T00:00:00.000000000",
          "2020-09-28T00:00:00.000000000",
          "2020-09-29T00:00:00.000000000",
          "2020-09-30T00:00:00.000000000",
          "2020-10-01T00:00:00.000000000",
          "2020-10-02T00:00:00.000000000",
          "2020-10-03T00:00:00.000000000",
          "2020-10-04T00:00:00.000000000",
          "2020-10-05T00:00:00.000000000",
          "2020-10-06T00:00:00.000000000",
          "2020-10-07T00:00:00.000000000",
          "2020-10-08T00:00:00.000000000",
          "2020-10-09T00:00:00.000000000",
          "2020-10-10T00:00:00.000000000",
          "2020-10-11T00:00:00.000000000",
          "2020-10-12T00:00:00.000000000",
          "2020-10-13T00:00:00.000000000",
          "2020-10-14T00:00:00.000000000",
          "2020-10-15T00:00:00.000000000",
          "2020-10-16T00:00:00.000000000",
          "2020-10-17T00:00:00.000000000",
          "2020-10-18T00:00:00.000000000",
          "2020-10-19T00:00:00.000000000",
          "2020-10-20T00:00:00.000000000",
          "2020-10-21T00:00:00.000000000",
          "2020-10-22T00:00:00.000000000",
          "2020-10-23T00:00:00.000000000",
          "2020-10-24T00:00:00.000000000",
          "2020-10-25T00:00:00.000000000",
          "2020-10-26T00:00:00.000000000",
          "2020-10-27T00:00:00.000000000",
          "2020-10-28T00:00:00.000000000",
          "2020-10-29T00:00:00.000000000",
          "2020-10-30T00:00:00.000000000",
          "2020-10-31T00:00:00.000000000",
          "2020-11-01T00:00:00.000000000",
          "2020-11-02T00:00:00.000000000",
          "2020-11-03T00:00:00.000000000",
          "2020-11-04T00:00:00.000000000",
          "2020-11-05T00:00:00.000000000",
          "2020-11-06T00:00:00.000000000",
          "2020-11-07T00:00:00.000000000",
          "2020-11-08T00:00:00.000000000",
          "2020-11-09T00:00:00.000000000",
          "2020-11-10T00:00:00.000000000",
          "2020-11-11T00:00:00.000000000",
          "2020-11-12T00:00:00.000000000",
          "2020-11-13T00:00:00.000000000",
          "2020-11-14T00:00:00.000000000",
          "2020-11-15T00:00:00.000000000",
          "2020-11-16T00:00:00.000000000",
          "2020-11-17T00:00:00.000000000",
          "2020-11-18T00:00:00.000000000",
          "2020-11-18T00:00:00.000000000",
          "2020-11-19T00:00:00.000000000",
          "2020-11-20T00:00:00.000000000",
          "2020-11-21T00:00:00.000000000",
          "2020-11-22T00:00:00.000000000",
          "2020-11-23T00:00:00.000000000",
          "2020-11-24T00:00:00.000000000",
          "2020-11-25T00:00:00.000000000",
          "2020-11-26T00:00:00.000000000",
          "2020-11-27T00:00:00.000000000",
          "2020-11-28T00:00:00.000000000",
          "2020-11-29T00:00:00.000000000",
          "2020-11-30T00:00:00.000000000",
          "2020-12-01T00:00:00.000000000",
          "2020-12-02T00:00:00.000000000",
          "2020-12-03T00:00:00.000000000",
          "2020-12-04T00:00:00.000000000",
          "2020-12-05T00:00:00.000000000",
          "2020-12-06T00:00:00.000000000",
          "2020-12-07T00:00:00.000000000",
          "2020-12-08T00:00:00.000000000",
          "2020-12-09T00:00:00.000000000",
          "2020-12-10T00:00:00.000000000",
          "2020-12-11T00:00:00.000000000",
          "2020-12-12T00:00:00.000000000",
          "2020-12-13T00:00:00.000000000",
          "2020-12-14T00:00:00.000000000",
          "2020-12-15T00:00:00.000000000",
          "2020-12-16T00:00:00.000000000",
          "2020-12-17T00:00:00.000000000",
          "2020-12-18T00:00:00.000000000",
          "2020-12-19T00:00:00.000000000",
          "2020-12-20T00:00:00.000000000",
          "2020-12-21T00:00:00.000000000",
          "2020-12-22T00:00:00.000000000",
          "2020-12-23T00:00:00.000000000",
          "2020-12-24T00:00:00.000000000",
          "2020-12-25T00:00:00.000000000",
          "2020-12-26T00:00:00.000000000",
          "2020-12-27T00:00:00.000000000",
          "2020-12-28T00:00:00.000000000",
          "2020-12-29T00:00:00.000000000",
          "2020-12-30T00:00:00.000000000",
          "2020-12-31T00:00:00.000000000",
          "2021-01-01T00:00:00.000000000",
          "2021-01-02T00:00:00.000000000",
          "2021-01-03T00:00:00.000000000",
          "2021-01-04T00:00:00.000000000",
          "2021-01-05T00:00:00.000000000",
          "2021-01-06T00:00:00.000000000",
          "2021-01-07T00:00:00.000000000",
          "2021-01-08T00:00:00.000000000",
          "2021-01-09T00:00:00.000000000",
          "2021-01-10T00:00:00.000000000",
          "2021-01-11T00:00:00.000000000",
          "2021-01-12T00:00:00.000000000",
          "2021-01-13T00:00:00.000000000",
          "2021-01-14T00:00:00.000000000",
          "2021-01-15T00:00:00.000000000",
          "2021-01-16T00:00:00.000000000",
          "2021-01-17T00:00:00.000000000",
          "2021-01-18T00:00:00.000000000",
          "2021-01-19T00:00:00.000000000",
          "2021-01-20T00:00:00.000000000",
          "2021-01-21T00:00:00.000000000",
          "2021-01-22T00:00:00.000000000",
          "2021-01-23T00:00:00.000000000",
          "2021-01-24T00:00:00.000000000",
          "2021-01-25T00:00:00.000000000",
          "2021-01-26T00:00:00.000000000",
          "2021-01-27T00:00:00.000000000",
          "2021-01-28T00:00:00.000000000",
          "2021-01-29T00:00:00.000000000",
          "2021-01-30T00:00:00.000000000",
          "2021-01-31T00:00:00.000000000",
          "2021-02-01T00:00:00.000000000",
          "2021-02-02T00:00:00.000000000",
          "2021-02-03T00:00:00.000000000",
          "2021-02-04T00:00:00.000000000",
          "2021-02-05T00:00:00.000000000",
          "2021-02-06T00:00:00.000000000",
          "2021-02-07T00:00:00.000000000",
          "2021-02-08T00:00:00.000000000",
          "2021-02-09T00:00:00.000000000",
          "2021-02-10T00:00:00.000000000",
          "2021-02-11T00:00:00.000000000",
          "2021-02-12T00:00:00.000000000",
          "2021-02-13T00:00:00.000000000",
          "2021-02-14T00:00:00.000000000",
          "2021-02-15T00:00:00.000000000",
          "2021-02-16T00:00:00.000000000",
          "2021-02-17T00:00:00.000000000",
          "2021-02-18T00:00:00.000000000",
          "2021-02-19T00:00:00.000000000",
          "2021-02-20T00:00:00.000000000",
          "2021-02-21T00:00:00.000000000",
          "2021-02-22T00:00:00.000000000",
          "2021-02-23T00:00:00.000000000",
          "2021-02-24T00:00:00.000000000",
          "2021-02-25T00:00:00.000000000",
          "2021-02-26T00:00:00.000000000",
          "2021-02-27T00:00:00.000000000",
          "2021-02-28T00:00:00.000000000",
          "2021-03-01T00:00:00.000000000",
          "2021-03-02T00:00:00.000000000",
          "2021-03-03T00:00:00.000000000",
          "2021-03-04T00:00:00.000000000",
          "2021-03-05T00:00:00.000000000",
          "2021-03-06T00:00:00.000000000",
          "2021-03-07T00:00:00.000000000",
          "2021-03-08T00:00:00.000000000",
          "2021-03-09T00:00:00.000000000",
          "2021-03-10T00:00:00.000000000",
          "2021-03-11T00:00:00.000000000",
          "2021-03-12T00:00:00.000000000",
          "2021-03-13T00:00:00.000000000",
          "2021-03-14T00:00:00.000000000",
          "2021-03-15T00:00:00.000000000",
          "2021-03-16T00:00:00.000000000",
          "2021-03-17T00:00:00.000000000",
          "2021-03-18T00:00:00.000000000",
          "2021-03-19T00:00:00.000000000",
          "2021-03-20T00:00:00.000000000",
          "2021-03-21T00:00:00.000000000",
          "2021-03-22T00:00:00.000000000",
          "2021-03-23T00:00:00.000000000",
          "2021-03-24T00:00:00.000000000",
          "2021-03-25T00:00:00.000000000",
          "2021-03-26T00:00:00.000000000",
          "2021-03-27T00:00:00.000000000",
          "2021-03-28T00:00:00.000000000",
          "2021-03-29T00:00:00.000000000",
          "2021-03-30T00:00:00.000000000",
          "2021-03-31T00:00:00.000000000",
          "2021-04-01T00:00:00.000000000",
          "2021-04-02T00:00:00.000000000",
          "2021-04-03T00:00:00.000000000",
          "2021-04-04T00:00:00.000000000",
          "2021-04-05T00:00:00.000000000",
          "2021-04-06T00:00:00.000000000",
          "2021-04-07T00:00:00.000000000",
          "2021-04-08T00:00:00.000000000",
          "2021-04-09T00:00:00.000000000",
          "2021-04-10T00:00:00.000000000",
          "2021-04-11T00:00:00.000000000",
          "2021-04-12T00:00:00.000000000",
          "2021-04-13T00:00:00.000000000",
          "2021-04-14T00:00:00.000000000",
          "2021-04-15T00:00:00.000000000",
          "2021-04-16T00:00:00.000000000"
         ],
         "xaxis": "x",
         "y": {
          "bdata": "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",
          "dtype": "f8"
         },
         "yaxis": "y"
        },
        {
         "boxpoints": "outliers",
         "name": "Monday",
         "type": "box",
         "xaxis": "x2",
         "y": {
          "bdata": "AAAAAAAAHEAAAAAAAAAkQAAAAAAAgCFAAAAAAAAAJEAAAAAAAAAkQAAAAAAAACRAAAAAAACAIkAAAAAAAAARQAAAAAAAgCFAAAAAAACAIEAAAAAAAAARQAAAAAAAACFAAAAAAAAAGkAAAAAAAIAgQAAAAAAAACNAAAAAAACAIkAAAAAAAAAeQAAAAAAAABpAAAAAAAAAHkAAAAAAAAAbQAAAAAAAACRAAAAAAACAIEAAAAAAAAAjQAAAAAAAgCBAAAAAAAAAHEAAAAAAAAAjQAAAAAAAABVAAAAAAAAAHkAAAAAAAAAkQAAAAAAAACNAAAAAAAAAI0AAAAAAAIAiQAAAAAAAACNAAAAAAAAAI0AAAAAAAIAiQAAAAAAAgCJAAAAAAACAIkAAAAAAAAAkQAAAAAAAACRAAAAAAAAAI0AAAAAAAAAkQAAAAAAAACRAAAAAAACAIkAAAAAAAAAkQAAAAAAAgCJAAAAAAAAAEkAAAAAAAAAeQAAAAAAAACNAAAAAAAAAI0AAAAAAAAAjQAAAAAAAACNAAAAAAAAAEkA=",
          "dtype": "f8"
         },
         "yaxis": "y2"
        },
        {
         "boxpoints": "outliers",
         "name": "Tuesday",
         "type": "box",
         "xaxis": "x2",
         "y": {
          "bdata": "AAAAAAAAIEAAAAAAAIAhQAAAAAAAgCFAAAAAAAAAJEAAAAAAAAAXQAAAAAAAACRAAAAAAAAADkAAAAAAAAAaQAAAAAAAACJAAAAAAACAIEAAAAAAAAAhQAAAAAAAABtAAAAAAAAAI0AAAAAAAAAjQAAAAAAAgCJAAAAAAAAAFkAAAAAAAAAeQAAAAAAAAAZAAAAAAAAADEAAAAAAAAAjQAAAAAAAAAJAAAAAAAAAJEAAAAAAAAAiQAAAAAAAAB9AAAAAAAAAFUAAAAAAAIAgQAAAAAAAACNAAAAAAAAAHEAAAAAAAAAjQAAAAAAAACRAAAAAAAAAI0AAAAAAAAAjQAAAAAAAgCJAAAAAAAAAI0AAAAAAAAAXQAAAAAAAACNAAAAAAAAAI0AAAAAAAAAjQAAAAAAAAB5AAAAAAAAAJEAAAAAAAAAeQAAAAAAAACRAAAAAAAAAJEAAAAAAAAAjQAAAAAAAABtAAAAAAAAAHkAAAAAAAAAjQAAAAAAAACNAAAAAAACAIEAAAAAAAAAjQAAAAAAAgCBAAAAAAAAAI0AAAAAAAIAgQA==",
          "dtype": "f8"
         },
         "yaxis": "y2"
        },
        {
         "boxpoints": "outliers",
         "name": "Wednesday",
         "type": "box",
         "xaxis": "x2",
         "y": {
          "bdata": "AAAAAAAAEkAAAAAAAAAbQAAAAAAAgCNAAAAAAAAAJEAAAAAAAAAQQAAAAAAAACBAAAAAAAAAFkAAAAAAAIAiQAAAAAAAABxAAAAAAACAIUAAAAAAAIAiQAAAAAAAgCJAAAAAAAAAI0AAAAAAAAAjQAAAAAAAAApAAAAAAAAAEkAAAAAAAAAfQAAAAAAAAApAAAAAAAAAF0AAAAAAAAAdQAAAAAAAAB5AAAAAAAAAJEAAAAAAAAAQQAAAAAAAABRAAAAAAAAAHEAAAAAAAAAfQAAAAAAAgCJAAAAAAACAIkAAAAAAAAAiQAAAAAAAgCJAAAAAAAAAJEAAAAAAAAAjQAAAAAAAACRAAAAAAAAAI0AAAAAAAIAgQAAAAAAAACNAAAAAAAAAI0AAAAAAAAAjQAAAAAAAAB1AAAAAAAAAI0AAAAAAAAAfQAAAAAAAgCJAAAAAAAAAI0AAAAAAAAAjQAAAAAAAgCJAAAAAAAAAJEAAAAAAAAAjQAAAAAAAACNAAAAAAAAAI0AAAAAAAAAjQAAAAAAAACNAAAAAAAAAI0AAAAAAAAAjQAAAAAAAgCBA",
          "dtype": "f8"
         },
         "yaxis": "y2"
        },
        {
         "boxpoints": "outliers",
         "name": "Thursday",
         "type": "box",
         "xaxis": "x2",
         "y": {
          "bdata": "AAAAAAAAIEAAAAAAAIAjQAAAAAAAgCJAAAAAAAAAJEAAAAAAAAAkQAAAAAAAAB5AAAAAAACAIkAAAAAAAAAYQAAAAAAAABhAAAAAAACAIkAAAAAAAIAjQAAAAAAAACNAAAAAAAAAI0AAAAAAAIAiQAAAAAAAACRAAAAAAAAAIEAAAAAAAAAVQAAAAAAAABJAAAAAAAAAF0AAAAAAAAAgQAAAAAAAACNAAAAAAAAAJEAAAAAAAAAjQAAAAAAAAA5AAAAAAAAAI0AAAAAAAAAcQAAAAAAAACNAAAAAAAAAI0AAAAAAAAAjQAAAAAAAACNAAAAAAAAAIkAAAAAAAAAkQAAAAAAAACNAAAAAAAAAI0AAAAAAAAAjQAAAAAAAABJAAAAAAAAAI0AAAAAAAAAkQAAAAAAAACRAAAAAAAAAI0AAAAAAAAAjQAAAAAAAgCJAAAAAAAAAI0AAAAAAAAAkQAAAAAAAAB9AAAAAAAAAI0AAAAAAAAAjQAAAAAAAACRAAAAAAAAAI0AAAAAAAIAgQAAAAAAAACNAAAAAAAAAJEAAAAAAAAAjQA==",
          "dtype": "f8"
         },
         "yaxis": "y2"
        },
        {
         "boxpoints": "outliers",
         "name": "Friday",
         "type": "box",
         "xaxis": "x2",
         "y": {
          "bdata": "AAAAAAAAIUAAAAAAAAAXQAAAAAAAgCFAAAAAAAAAJEAAAAAAAAAjQAAAAAAAABtAAAAAAAAAEUAAAAAAAAAWQAAAAAAAABpAAAAAAAAAJEAAAAAAAAAeQAAAAAAAABtAAAAAAACAIkAAAAAAAAAZQAAAAAAAABxAAAAAAAAAI0AAAAAAAAAQQAAAAAAAABhAAAAAAAAAI0AAAAAAAAAKQAAAAAAAACNAAAAAAAAAI0AAAAAAAAATQAAAAAAAABdAAAAAAAAAH0AAAAAAAAAXQAAAAAAAAB9AAAAAAACAIEAAAAAAAIAiQAAAAAAAgCJAAAAAAAAAI0AAAAAAAAAjQAAAAAAAAB1AAAAAAAAAI0AAAAAAAAAIQAAAAAAAABJAAAAAAACAIkAAAAAAAAAjQAAAAAAAACRAAAAAAAAAJEAAAAAAAAASQAAAAAAAAB9AAAAAAAAAI0AAAAAAAAAYQAAAAAAAACRAAAAAAAAAI0AAAAAAAAAaQAAAAAAAACNAAAAAAAAAI0AAAAAAAAAkQAAAAAAAACRAAAAAAAAAI0AAAAAAAAAjQA==",
          "dtype": "f8"
         },
         "yaxis": "y2"
        },
        {
         "boxpoints": "outliers",
         "name": "Saturday",
         "type": "box",
         "xaxis": "x2",
         "y": {
          "bdata": "AAAAAACAIUAAAAAAAIAhQAAAAAAAgCNAAAAAAAAAI0AAAAAAAAAkQAAAAAAAgCJAAAAAAAAAGUAAAAAAAAAXQAAAAAAAgCBAAAAAAAAAGUAAAAAAAAAkQAAAAAAAAAhAAAAAAAAAJEAAAAAAAAAjQAAAAAAAAB5AAAAAAAAAHEAAAAAAAIAiQAAAAAAAABpAAAAAAAAADkAAAAAAAAAIQAAAAAAAABxAAAAAAAAAFUAAAAAAAAAjQAAAAAAAACRAAAAAAAAAH0AAAAAAAAAjQAAAAAAAAB1AAAAAAAAAFUAAAAAAAIAiQAAAAAAAACNAAAAAAACAIkAAAAAAAAAkQAAAAAAAgCJAAAAAAACAIkAAAAAAAAAjQAAAAAAAACNAAAAAAAAAFkAAAAAAAAAjQAAAAAAAAB1AAAAAAAAAI0AAAAAAAAAjQAAAAAAAACNAAAAAAAAAI0AAAAAAAAAjQAAAAAAAgCJAAAAAAAAAI0AAAAAAAAAfQAAAAAAAACNAAAAAAAAAI0AAAAAAAAAjQAAAAAAAACNAAAAAAAAAI0AAAAAAAAAjQAAAAAAAACNA",
          "dtype": "f8"
         },
         "yaxis": "y2"
        },
        {
         "boxpoints": "outliers",
         "name": "Sunday",
         "type": "box",
         "xaxis": "x2",
         "y": {
          "bdata": "AAAAAAAAEkAAAAAAAAAkQAAAAAAAABNAAAAAAAAAJEAAAAAAAAAkQAAAAAAAACBAAAAAAAAAG0AAAAAAAAASQAAAAAAAACRAAAAAAAAAI0AAAAAAAAAaQAAAAAAAABZAAAAAAACAIkAAAAAAAAAbQAAAAAAAABtAAAAAAAAAHkAAAAAAAIAiQAAAAAAAAARAAAAAAAAADEAAAAAAAAAjQAAAAAAAABtAAAAAAAAAJEAAAAAAAIAiQAAAAAAAACNAAAAAAAAAI0AAAAAAAAAdQAAAAAAAABxAAAAAAAAAI0AAAAAAAAAiQAAAAAAAgCJAAAAAAACAIkAAAAAAAIAiQAAAAAAAgCJAAAAAAAAAHUAAAAAAAAAYQAAAAAAAACNAAAAAAAAAI0AAAAAAAAAjQAAAAAAAACRAAAAAAAAAI0AAAAAAAIAiQAAAAAAAgCJAAAAAAAAAHUAAAAAAAIAiQAAAAAAAABhAAAAAAACAIkAAAAAAAAAjQAAAAAAAACNAAAAAAAAAI0AAAAAAAAAfQAAAAAAAACNAAAAAAAAAI0AAAAAAAAAfQA==",
          "dtype": "f8"
         },
         "yaxis": "y2"
        },
        {
         "marker": {
          "color": [
           "#FF6B6B",
           "#4ECDC4",
           "#45B7D1",
           "#96CEB4"
          ]
         },
         "name": "Component Averages",
         "text": [
          "6.92",
          "8.78",
          "8.62",
          "8.86"
         ],
         "textposition": "auto",
         "type": "bar",
         "x": [
          "Overall Mood",
          "Work Satisfaction",
          "Personal Life",
          "Work-Life Balance"
         ],
         "xaxis": "x3",
         "y": [
          6.922043010752688,
          8.78494623655914,
          8.615591397849462,
          8.86021505376344
         ],
         "yaxis": "y3"
        }
       ],
       "layout": {
        "annotations": [
         {
          "font": {
           "size": 16
          },
          "showarrow": false,
          "text": "Score Distribution (Interactive)",
          "x": 0.225,
          "xanchor": "center",
          "xref": "paper",
          "y": 1,
          "yanchor": "bottom",
          "yref": "paper"
         },
         {
          "font": {
           "size": 16
          },
          "showarrow": false,
          "text": "Score Trends Over Time",
          "x": 0.775,
          "xanchor": "center",
          "xref": "paper",
          "y": 1,
          "yanchor": "bottom",
          "yref": "paper"
         },
         {
          "font": {
           "size": 16
          },
          "showarrow": false,
          "text": "Weekly Patterns (Box Plot)",
          "x": 0.225,
          "xanchor": "center",
          "xref": "paper",
          "y": 0.375,
          "yanchor": "bottom",
          "yref": "paper"
         },
         {
          "font": {
           "size": 16
          },
          "showarrow": false,
          "text": "Individual Score Components",
          "x": 0.775,
          "xanchor": "center",
          "xref": "paper",
          "y": 0.375,
          "yanchor": "bottom",
          "yref": "paper"
         }
        ],
        "height": 800,
        "showlegend": true,
        "template": {
         "data": {
          "bar": [
           {
            "error_x": {
             "color": "#2a3f5f"
            },
            "error_y": {
             "color": "#2a3f5f"
            },
            "marker": {
             "line": {
              "color": "#E5ECF6",
              "width": 0.5
             },
             "pattern": {
              "fillmode": "overlay",
              "size": 10,
              "solidity": 0.2
             }
            },
            "type": "bar"
           }
          ],
          "barpolar": [
           {
            "marker": {
             "line": {
              "color": "#E5ECF6",
              "width": 0.5
             },
             "pattern": {
              "fillmode": "overlay",
              "size": 10,
              "solidity": 0.2
             }
            },
            "type": "barpolar"
           }
          ],
          "carpet": [
           {
            "aaxis": {
             "endlinecolor": "#2a3f5f",
             "gridcolor": "white",
             "linecolor": "white",
             "minorgridcolor": "white",
             "startlinecolor": "#2a3f5f"
            },
            "baxis": {
             "endlinecolor": "#2a3f5f",
             "gridcolor": "white",
             "linecolor": "white",
             "minorgridcolor": "white",
             "startlinecolor": "#2a3f5f"
            },
            "type": "carpet"
           }
          ],
          "choropleth": [
           {
            "colorbar": {
             "outlinewidth": 0,
             "ticks": ""
            },
            "type": "choropleth"
           }
          ],
          "contour": [
           {
            "colorbar": {
             "outlinewidth": 0,
             "ticks": ""
            },
            "colorscale": [
             [
              0,
              "#0d0887"
             ],
             [
              0.1111111111111111,
              "#46039f"
             ],
             [
              0.2222222222222222,
              "#7201a8"
             ],
             [
              0.3333333333333333,
              "#9c179e"
             ],
             [
              0.4444444444444444,
              "#bd3786"
             ],
             [
              0.5555555555555556,
              "#d8576b"
             ],
             [
              0.6666666666666666,
              "#ed7953"
             ],
             [
              0.7777777777777778,
              "#fb9f3a"
             ],
             [
              0.8888888888888888,
              "#fdca26"
             ],
             [
              1,
              "#f0f921"
             ]
            ],
            "type": "contour"
           }
          ],
          "contourcarpet": [
           {
            "colorbar": {
             "outlinewidth": 0,
             "ticks": ""
            },
            "type": "contourcarpet"
           }
          ],
          "heatmap": [
           {
            "colorbar": {
             "outlinewidth": 0,
             "ticks": ""
            },
            "colorscale": [
             [
              0,
              "#0d0887"
             ],
             [
              0.1111111111111111,
              "#46039f"
             ],
             [
              0.2222222222222222,
              "#7201a8"
             ],
             [
              0.3333333333333333,
              "#9c179e"
             ],
             [
              0.4444444444444444,
              "#bd3786"
             ],
             [
              0.5555555555555556,
              "#d8576b"
             ],
             [
              0.6666666666666666,
              "#ed7953"
             ],
             [
              0.7777777777777778,
              "#fb9f3a"
             ],
             [
              0.8888888888888888,
              "#fdca26"
             ],
             [
              1,
              "#f0f921"
             ]
            ],
            "type": "heatmap"
           }
          ],
          "histogram": [
           {
            "marker": {
             "pattern": {
              "fillmode": "overlay",
              "size": 10,
              "solidity": 0.2
             }
            },
            "type": "histogram"
           }
          ],
          "histogram2d": [
           {
            "colorbar": {
             "outlinewidth": 0,
             "ticks": ""
            },
            "colorscale": [
             [
              0,
              "#0d0887"
             ],
             [
              0.1111111111111111,
              "#46039f"
             ],
             [
              0.2222222222222222,
              "#7201a8"
             ],
             [
              0.3333333333333333,
              "#9c179e"
             ],
             [
              0.4444444444444444,
              "#bd3786"
             ],
             [
              0.5555555555555556,
              "#d8576b"
             ],
             [
              0.6666666666666666,
              "#ed7953"
             ],
             [
              0.7777777777777778,
              "#fb9f3a"
             ],
             [
              0.8888888888888888,
              "#fdca26"
             ],
             [
              1,
              "#f0f921"
             ]
            ],
            "type": "histogram2d"
           }
          ],
          "histogram2dcontour": [
           {
            "colorbar": {
             "outlinewidth": 0,
             "ticks": ""
            },
            "colorscale": [
             [
              0,
              "#0d0887"
             ],
             [
              0.1111111111111111,
              "#46039f"
             ],
             [
              0.2222222222222222,
              "#7201a8"
             ],
             [
              0.3333333333333333,
              "#9c179e"
             ],
             [
              0.4444444444444444,
              "#bd3786"
             ],
             [
              0.5555555555555556,
              "#d8576b"
             ],
             [
              0.6666666666666666,
              "#ed7953"
             ],
             [
              0.7777777777777778,
              "#fb9f3a"
             ],
             [
              0.8888888888888888,
              "#fdca26"
             ],
             [
              1,
              "#f0f921"
             ]
            ],
            "type": "histogram2dcontour"
           }
          ],
          "mesh3d": [
           {
            "colorbar": {
             "outlinewidth": 0,
             "ticks": ""
            },
            "type": "mesh3d"
           }
          ],
          "parcoords": [
           {
            "line": {
             "colorbar": {
              "outlinewidth": 0,
              "ticks": ""
             }
            },
            "type": "parcoords"
           }
          ],
          "pie": [
           {
            "automargin": true,
            "type": "pie"
           }
          ],
          "scatter": [
           {
            "fillpattern": {
             "fillmode": "overlay",
             "size": 10,
             "solidity": 0.2
            },
            "type": "scatter"
           }
          ],
          "scatter3d": [
           {
            "line": {
             "colorbar": {
              "outlinewidth": 0,
              "ticks": ""
             }
            },
            "marker": {
             "colorbar": {
              "outlinewidth": 0,
              "ticks": ""
             }
            },
            "type": "scatter3d"
           }
          ],
          "scattercarpet": [
           {
            "marker": {
             "colorbar": {
              "outlinewidth": 0,
              "ticks": ""
             }
            },
            "type": "scattercarpet"
           }
          ],
          "scattergeo": [
           {
            "marker": {
             "colorbar": {
              "outlinewidth": 0,
              "ticks": ""
             }
            },
            "type": "scattergeo"
           }
          ],
          "scattergl": [
           {
            "marker": {
             "colorbar": {
              "outlinewidth": 0,
              "ticks": ""
             }
            },
            "type": "scattergl"
           }
          ],
          "scattermap": [
           {
            "marker": {
             "colorbar": {
              "outlinewidth": 0,
              "ticks": ""
             }
            },
            "type": "scattermap"
           }
          ],
          "scattermapbox": [
           {
            "marker": {
             "colorbar": {
              "outlinewidth": 0,
              "ticks": ""
             }
            },
            "type": "scattermapbox"
           }
          ],
          "scatterpolar": [
           {
            "marker": {
             "colorbar": {
              "outlinewidth": 0,
              "ticks": ""
             }
            },
            "type": "scatterpolar"
           }
          ],
          "scatterpolargl": [
           {
            "marker": {
             "colorbar": {
              "outlinewidth": 0,
              "ticks": ""
             }
            },
            "type": "scatterpolargl"
           }
          ],
          "scatterternary": [
           {
            "marker": {
             "colorbar": {
              "outlinewidth": 0,
              "ticks": ""
             }
            },
            "type": "scatterternary"
           }
          ],
          "surface": [
           {
            "colorbar": {
             "outlinewidth": 0,
             "ticks": ""
            },
            "colorscale": [
             [
              0,
              "#0d0887"
             ],
             [
              0.1111111111111111,
              "#46039f"
             ],
             [
              0.2222222222222222,
              "#7201a8"
             ],
             [
              0.3333333333333333,
              "#9c179e"
             ],
             [
              0.4444444444444444,
              "#bd3786"
             ],
             [
              0.5555555555555556,
              "#d8576b"
             ],
             [
              0.6666666666666666,
              "#ed7953"
             ],
             [
              0.7777777777777778,
              "#fb9f3a"
             ],
             [
              0.8888888888888888,
              "#fdca26"
             ],
             [
              1,
              "#f0f921"
             ]
            ],
            "type": "surface"
           }
          ],
          "table": [
           {
            "cells": {
             "fill": {
              "color": "#EBF0F8"
             },
             "line": {
              "color": "white"
             }
            },
            "header": {
             "fill": {
              "color": "#C8D4E3"
             },
             "line": {
              "color": "white"
             }
            },
            "type": "table"
           }
          ]
         },
         "layout": {
          "annotationdefaults": {
           "arrowcolor": "#2a3f5f",
           "arrowhead": 0,
           "arrowwidth": 1
          },
          "autotypenumbers": "strict",
          "coloraxis": {
           "colorbar": {
            "outlinewidth": 0,
            "ticks": ""
           }
          },
          "colorscale": {
           "diverging": [
            [
             0,
             "#8e0152"
            ],
            [
             0.1,
             "#c51b7d"
            ],
            [
             0.2,
             "#de77ae"
            ],
            [
             0.3,
             "#f1b6da"
            ],
            [
             0.4,
             "#fde0ef"
            ],
            [
             0.5,
             "#f7f7f7"
            ],
            [
             0.6,
             "#e6f5d0"
            ],
            [
             0.7,
             "#b8e186"
            ],
            [
             0.8,
             "#7fbc41"
            ],
            [
             0.9,
             "#4d9221"
            ],
            [
             1,
             "#276419"
            ]
           ],
           "sequential": [
            [
             0,
             "#0d0887"
            ],
            [
             0.1111111111111111,
             "#46039f"
            ],
            [
             0.2222222222222222,
             "#7201a8"
            ],
            [
             0.3333333333333333,
             "#9c179e"
            ],
            [
             0.4444444444444444,
             "#bd3786"
            ],
            [
             0.5555555555555556,
             "#d8576b"
            ],
            [
             0.6666666666666666,
             "#ed7953"
            ],
            [
             0.7777777777777778,
             "#fb9f3a"
            ],
            [
             0.8888888888888888,
             "#fdca26"
            ],
            [
             1,
             "#f0f921"
            ]
           ],
           "sequentialminus": [
            [
             0,
             "#0d0887"
            ],
            [
             0.1111111111111111,
             "#46039f"
            ],
            [
             0.2222222222222222,
             "#7201a8"
            ],
            [
             0.3333333333333333,
             "#9c179e"
            ],
            [
             0.4444444444444444,
             "#bd3786"
            ],
            [
             0.5555555555555556,
             "#d8576b"
            ],
            [
             0.6666666666666666,
             "#ed7953"
            ],
            [
             0.7777777777777778,
             "#fb9f3a"
            ],
            [
             0.8888888888888888,
             "#fdca26"
            ],
            [
             1,
             "#f0f921"
            ]
           ]
          },
          "colorway": [
           "#636efa",
           "#EF553B",
           "#00cc96",
           "#ab63fa",
           "#FFA15A",
           "#19d3f3",
           "#FF6692",
           "#B6E880",
           "#FF97FF",
           "#FECB52"
          ],
          "font": {
           "color": "#2a3f5f"
          },
          "geo": {
           "bgcolor": "white",
           "lakecolor": "white",
           "landcolor": "#E5ECF6",
           "showlakes": true,
           "showland": true,
           "subunitcolor": "white"
          },
          "hoverlabel": {
           "align": "left"
          },
          "hovermode": "closest",
          "mapbox": {
           "style": "light"
          },
          "paper_bgcolor": "white",
          "plot_bgcolor": "#E5ECF6",
          "polar": {
           "angularaxis": {
            "gridcolor": "white",
            "linecolor": "white",
            "ticks": ""
           },
           "bgcolor": "#E5ECF6",
           "radialaxis": {
            "gridcolor": "white",
            "linecolor": "white",
            "ticks": ""
           }
          },
          "scene": {
           "xaxis": {
            "backgroundcolor": "#E5ECF6",
            "gridcolor": "white",
            "gridwidth": 2,
            "linecolor": "white",
            "showbackground": true,
            "ticks": "",
            "zerolinecolor": "white"
           },
           "yaxis": {
            "backgroundcolor": "#E5ECF6",
            "gridcolor": "white",
            "gridwidth": 2,
            "linecolor": "white",
            "showbackground": true,
            "ticks": "",
            "zerolinecolor": "white"
           },
           "zaxis": {
            "backgroundcolor": "#E5ECF6",
            "gridcolor": "white",
            "gridwidth": 2,
            "linecolor": "white",
            "showbackground": true,
            "ticks": "",
            "zerolinecolor": "white"
           }
          },
          "shapedefaults": {
           "line": {
            "color": "#2a3f5f"
           }
          },
          "ternary": {
           "aaxis": {
            "gridcolor": "white",
            "linecolor": "white",
            "ticks": ""
           },
           "baxis": {
            "gridcolor": "white",
            "linecolor": "white",
            "ticks": ""
           },
           "bgcolor": "#E5ECF6",
           "caxis": {
            "gridcolor": "white",
            "linecolor": "white",
            "ticks": ""
           }
          },
          "title": {
           "x": 0.05
          },
          "xaxis": {
           "automargin": true,
           "gridcolor": "white",
           "linecolor": "white",
           "ticks": "",
           "title": {
            "standoff": 15
           },
           "zerolinecolor": "white",
           "zerolinewidth": 2
          },
          "yaxis": {
           "automargin": true,
           "gridcolor": "white",
           "linecolor": "white",
           "ticks": "",
           "title": {
            "standoff": 15
           },
           "zerolinecolor": "white",
           "zerolinewidth": 2
          }
         }
        },
        "title": {
         "text": "📊 Comprehensive Average Score Analysis Dashboard",
         "x": 0.5
        },
        "xaxis": {
         "anchor": "y",
         "domain": [
          0.55,
          1
         ],
         "title": {
          "text": "Date"
         }
        },
        "xaxis2": {
         "anchor": "y2",
         "domain": [
          0,
          0.45
         ],
         "title": {
          "text": "Day of Week"
         }
        },
        "xaxis3": {
         "anchor": "y3",
         "domain": [
          0.55,
          1
         ],
         "title": {
          "text": "Score Components"
         }
        },
        "yaxis": {
         "anchor": "x",
         "domain": [
          0.625,
          1
         ],
         "title": {
          "text": "Average Score"
         }
        },
        "yaxis2": {
         "anchor": "x2",
         "domain": [
          0,
          0.375
         ],
         "title": {
          "text": "Average Score"
         }
        },
        "yaxis3": {
         "anchor": "x3",
         "domain": [
          0,
          0.375
         ],
         "title": {
          "text": "Average Score"
         }
        }
       }
      }
     },
     "metadata": {},
     "output_type": "display_data"
    },
    {
     "name": "stdout",
     "output_type": "stream",
     "text": [
      "✅ Interactive dashboard created successfully!\n",
      "💡 Hover over data points for detailed information\n"
     ]
    }
   ],
   "source": [
    "# 📊 CHART 4: INTERACTIVE PLOTLY VISUALIZATIONS\n",
    "print(\"\\n⚡ Creating Interactive Plotly Visualizations\")\n",
    "print(\"=\" * 55)\n",
    "\n",
    "# Create subplot figure with multiple charts\n",
    "fig = make_subplots(\n",
    "    rows=2, cols=2,\n",
    "    subplot_titles=('Score Distribution (Interactive)', 'Score Trends Over Time', \n",
    "                   'Weekly Patterns (Box Plot)', 'Individual Score Components'),\n",
    "    specs=[[{\"type\": \"pie\"}, {\"type\": \"scatter\"}],\n",
    "           [{\"type\": \"box\"}, {\"type\": \"bar\"}]]\n",
    ")\n",
    "\n",
    "# 1. Interactive Pie Chart\n",
    "fig.add_trace(\n",
    "    go.Pie(labels=[cat.split('\\n')[0] for cat in categories], \n",
    "           values=counts,\n",
    "           name=\"Score Distribution\",\n",
    "           hovertemplate=\"<b>%{label}</b><br>Count: %{value}<br>Percentage: %{percent}<extra></extra>\",\n",
    "           marker_colors=colors),\n",
    "    row=1, col=1\n",
    ")\n",
    "\n",
    "# 2. Time Series with hover data\n",
    "fig.add_trace(\n",
    "    go.Scatter(x=form_df_sorted['date_dt'], \n",
    "               y=form_df_sorted['average_score'],\n",
    "               mode='markers+lines',\n",
    "               name='Daily Scores',\n",
    "               text=form_df_sorted['original_mood'],\n",
    "               hovertemplate=\"<b>%{x}</b><br>Average Score: %{y:.2f}<br>Original Mood: %{text}<extra></extra>\",\n",
    "               marker=dict(size=6, opacity=0.7),\n",
    "               line=dict(width=2)),\n",
    "    row=1, col=2\n",
    ")\n",
    "\n",
    "# 3. Box plot for weekday patterns\n",
    "for day in weekday_order:\n",
    "    day_data = form_df_sorted[form_df_sorted['day_of_week'] == day]['average_score']\n",
    "    fig.add_trace(\n",
    "        go.Box(y=day_data, name=day, boxpoints=\"outliers\"),\n",
    "        row=2, col=1\n",
    "    )\n",
    "\n",
    "# 4. Score components breakdown\n",
    "components = ['form_overallMood', 'form_workSatisfaction', \n",
    "              'form_personalLifeSatisfaction', 'form_balanceRating']\n",
    "component_names = ['Overall Mood', 'Work Satisfaction', \n",
    "                   'Personal Life', 'Work-Life Balance']\n",
    "component_averages = [form_df_sorted[comp].mean() for comp in components]\n",
    "\n",
    "fig.add_trace(\n",
    "    go.Bar(x=component_names, y=component_averages,\n",
    "           name='Component Averages',\n",
    "           marker_color=['#FF6B6B', '#4ECDC4', '#45B7D1', '#96CEB4'],\n",
    "           text=[f'{avg:.2f}' for avg in component_averages],\n",
    "           textposition='auto'),\n",
    "    row=2, col=2\n",
    ")\n",
    "\n",
    "# Update layout\n",
    "fig.update_layout(\n",
    "    title_text=\"📊 Comprehensive Average Score Analysis Dashboard\",\n",
    "    title_x=0.5,\n",
    "    height=800,\n",
    "    showlegend=True\n",
    ")\n",
    "\n",
    "# Update subplot titles and axes\n",
    "fig.update_xaxes(title_text=\"Date\", row=1, col=2)\n",
    "fig.update_yaxes(title_text=\"Average Score\", row=1, col=2)\n",
    "fig.update_xaxes(title_text=\"Day of Week\", row=2, col=1)\n",
    "fig.update_yaxes(title_text=\"Average Score\", row=2, col=1)\n",
    "fig.update_xaxes(title_text=\"Score Components\", row=2, col=2)\n",
    "fig.update_yaxes(title_text=\"Average Score\", row=2, col=2)\n",
    "\n",
    "fig.show()\n",
    "\n",
    "print(\"✅ Interactive dashboard created successfully!\")\n",
    "print(\"💡 Hover over data points for detailed information\")"
   ]
  },
  {
   "cell_type": "code",
   "execution_count": 32,
   "id": "b9ccef70",
   "metadata": {},
   "outputs": [
    {
     "name": "stdout",
     "output_type": "stream",
     "text": [
      "Defaulting to user installation because normal site-packages is not writeable\n",
      "Collecting scipy\n",
      "  Downloading scipy-1.13.1-cp39-cp39-macosx_12_0_arm64.whl (30.3 MB)\n",
      "\u001b[K     |████████████████████████████████| 30.3 MB 46.0 MB/s eta 0:00:01\n",
      "\u001b[?25hRequirement already satisfied: numpy<2.3,>=1.22.4 in /Users/matthewsimon/Library/Python/3.9/lib/python/site-packages (from scipy) (2.0.2)\n",
      "Installing collected packages: scipy\n",
      "Successfully installed scipy-1.13.1\n",
      "\u001b[33mWARNING: You are using pip version 21.2.4; however, version 25.1.1 is available.\n",
      "You should consider upgrading via the '/Library/Developer/CommandLineTools/usr/bin/python3 -m pip install --upgrade pip' command.\u001b[0m\n",
      "Note: you may need to restart the kernel to use updated packages.\n",
      "🔍 COMPREHENSIVE STATISTICAL ANALYSIS & INSIGHTS\n",
      "=================================================================\n",
      "📊 DISTRIBUTION ANALYSIS:\n",
      "----------------------------------------\n",
      "📈 Central Tendencies:\n",
      "   Mean: 8.30\n",
      "   Median: 9.25\n",
      "   Mode: 9.50\n",
      "\n",
      "📏 Spread & Variability:\n",
      "   Standard Deviation: 1.86\n",
      "   Variance: 3.48\n",
      "   Range: 7.75\n",
      "   IQR: 2.25\n",
      "\n",
      "📐 Shape & Distribution:\n",
      "   Skewness: -1.298 (Left-skewed)\n",
      "   Kurtosis: 0.708 (Heavy-tailed)\n",
      "\n",
      "🔬 SCORE COMPONENT BREAKDOWN:\n",
      "----------------------------------------\n",
      "        Component  Mean  Std  Min  Max    CV\n",
      "     Overall Mood  6.92 2.44    1   10 35.31\n",
      "Work Satisfaction  8.78 2.12    1   10 24.14\n",
      "    Personal Life  8.62 2.18    1   10 25.34\n",
      "Work-Life Balance  8.86 1.72    2   10 19.39\n",
      "\n",
      "🎯 Most consistent: Work-Life Balance\n",
      "⚡ Most variable: Overall Mood\n",
      "\n",
      "🔗 CORRELATION ANALYSIS:\n",
      "----------------------------------------\n",
      "Correlations with Average Score:\n",
      "   Overall Mood        : 0.910 (Very Strong)\n",
      "   Work Satisfaction   : 0.843 (Very Strong)\n",
      "   Personal Life       : 0.908 (Very Strong)\n",
      "   Work-Life Balance   : 0.853 (Very Strong)\n",
      "\n",
      "📊 PERCENTILE ANALYSIS:\n",
      "----------------------------------------\n",
      "Score Percentiles:\n",
      "   10th percentile: 5.28\n",
      "   25th percentile: 7.25\n",
      "   50th percentile: 9.25\n",
      "   75th percentile: 9.50\n",
      "   90th percentile: 10.00\n",
      "   95th percentile: 10.00\n",
      "   99th percentile: 10.00\n",
      "\n",
      "🔥 STREAK ANALYSIS:\n",
      "----------------------------------------\n",
      "🌟 Longest good streak (≥8.0): 32 days\n",
      "⚠️  Longest challenging streak (<8.0): 15 days\n",
      "📈 Total good days: 252/372 (67.7%)\n",
      "\n",
      "🏆 MONTHLY PERFORMANCE RATINGS:\n",
      "----------------------------------------\n",
      "   2020-04: 7.88 👍 Good\n",
      "   2020-05: 8.56 🥇 Excellent\n",
      "   2020-06: 7.42 👍 Good\n",
      "   2020-07: 8.12 ✨ Very Good\n",
      "   2020-08: 6.06 😐 Average\n",
      "   2020-09: 8.08 ✨ Very Good\n",
      "   2020-10: 8.25 ✨ Very Good\n",
      "   2020-11: 9.35 🌟 Outstanding\n",
      "   2020-12: 8.40 ✨ Very Good\n",
      "   2021-01: 9.14 🌟 Outstanding\n",
      "   2021-02: 9.01 🌟 Outstanding\n",
      "   2021-03: 9.03 🌟 Outstanding\n",
      "   2021-04: 8.98 🥇 Excellent\n",
      "\n",
      "🎯 KEY INSIGHTS SUMMARY:\n",
      "==================================================\n",
      "✨ Overall Performance: 8.3/10 (Excellent range)\n",
      "🎯 Consistency: High\n",
      "📈 Trend: Improving\n",
      "🏆 Peak Performance: November 2020\n",
      "📊 Dominant Category: Excellent Days (59.4%)\n",
      "⭐ Best Day Type: Thursday\n",
      "🔥 Success Rate: 67.7% of days scored ≥8.0\n",
      "\n",
      "💡 RECOMMENDATIONS:\n",
      "------------------------------\n",
      "🎯 Focus on improving Friday performance\n",
      "🏖️ Consider weekend routine optimization\n",
      "📅 Review and improve strategies for challenging months\n",
      "🌟 Continue successful patterns from Thursday and November 2020\n",
      "\n",
      "📊 VISUALIZATION SUMMARY:\n",
      "==============================\n",
      "✅ Created 4 comprehensive visualizations:\n",
      "   1. 🥧 Pie Chart + Bar Chart: Score distribution\n",
      "   2. 📈 Time Series: Daily trends & monthly patterns\n",
      "   3. 🔥 Heatmaps: Weekday & monthly patterns\n",
      "   4. ⚡ Interactive Dashboard: Multi-dimensional analysis\n",
      "\n",
      "🎉 Analysis Complete! Your data shows excellent overall performance with clear improvement trends.\n"
     ]
    }
   ],
   "source": [
    "# Install scipy for advanced statistics\n",
    "%pip install scipy\n",
    "\n",
    "# 📈 COMPREHENSIVE STATISTICAL ANALYSIS & INSIGHTS\n",
    "print(\"🔍 COMPREHENSIVE STATISTICAL ANALYSIS & INSIGHTS\")\n",
    "print(\"=\" * 65)\n",
    "\n",
    "# Advanced statistical analysis\n",
    "from scipy import stats\n",
    "\n",
    "# 1. Distribution Analysis\n",
    "print(\"📊 DISTRIBUTION ANALYSIS:\")\n",
    "print(\"-\" * 40)\n",
    "avg_scores = form_df['average_score']\n",
    "\n",
    "# Descriptive statistics\n",
    "print(f\"📈 Central Tendencies:\")\n",
    "print(f\"   Mean: {avg_scores.mean():.2f}\")\n",
    "print(f\"   Median: {avg_scores.median():.2f}\")\n",
    "print(f\"   Mode: {avg_scores.mode().values[0]:.2f}\")\n",
    "\n",
    "print(f\"\\n📏 Spread & Variability:\")\n",
    "print(f\"   Standard Deviation: {avg_scores.std():.2f}\")\n",
    "print(f\"   Variance: {avg_scores.var():.2f}\")\n",
    "print(f\"   Range: {avg_scores.max() - avg_scores.min():.2f}\")\n",
    "print(f\"   IQR: {avg_scores.quantile(0.75) - avg_scores.quantile(0.25):.2f}\")\n",
    "\n",
    "print(f\"\\n📐 Shape & Distribution:\")\n",
    "skewness = stats.skew(avg_scores)\n",
    "kurtosis = stats.kurtosis(avg_scores)\n",
    "print(f\"   Skewness: {skewness:.3f} ({'Right-skewed' if skewness > 0 else 'Left-skewed' if skewness < 0 else 'Symmetric'})\")\n",
    "print(f\"   Kurtosis: {kurtosis:.3f} ({'Heavy-tailed' if kurtosis > 0 else 'Light-tailed' if kurtosis < 0 else 'Normal-tailed'})\")\n",
    "\n",
    "# 2. Score Component Analysis\n",
    "print(f\"\\n🔬 SCORE COMPONENT BREAKDOWN:\")\n",
    "print(\"-\" * 40)\n",
    "components_analysis = []\n",
    "for comp, name in zip(components, component_names):\n",
    "    comp_data = form_df[comp]\n",
    "    analysis = {\n",
    "        'Component': name,\n",
    "        'Mean': comp_data.mean(),\n",
    "        'Std': comp_data.std(),\n",
    "        'Min': comp_data.min(),\n",
    "        'Max': comp_data.max(),\n",
    "        'CV': (comp_data.std() / comp_data.mean()) * 100  # Coefficient of Variation\n",
    "    }\n",
    "    components_analysis.append(analysis)\n",
    "\n",
    "component_df = pd.DataFrame(components_analysis)\n",
    "print(component_df.round(2).to_string(index=False))\n",
    "\n",
    "# Find most and least consistent components\n",
    "most_consistent = component_df.loc[component_df['CV'].idxmin(), 'Component']\n",
    "least_consistent = component_df.loc[component_df['CV'].idxmax(), 'Component']\n",
    "print(f\"\\n🎯 Most consistent: {most_consistent}\")\n",
    "print(f\"⚡ Most variable: {least_consistent}\")\n",
    "\n",
    "# 3. Correlation Analysis\n",
    "print(f\"\\n🔗 CORRELATION ANALYSIS:\")\n",
    "print(\"-\" * 40)\n",
    "correlation_matrix = form_df[components + ['average_score']].corr()\n",
    "print(\"Correlations with Average Score:\")\n",
    "for comp, name in zip(components, component_names):\n",
    "    corr = correlation_matrix.loc[comp, 'average_score']\n",
    "    strength = \"Very Strong\" if abs(corr) > 0.8 else \"Strong\" if abs(corr) > 0.6 else \"Moderate\" if abs(corr) > 0.4 else \"Weak\"\n",
    "    print(f\"   {name:20}: {corr:.3f} ({strength})\")\n",
    "\n",
    "# 4. Percentile Analysis\n",
    "print(f\"\\n📊 PERCENTILE ANALYSIS:\")\n",
    "print(\"-\" * 40)\n",
    "percentiles = [10, 25, 50, 75, 90, 95, 99]\n",
    "print(\"Score Percentiles:\")\n",
    "for p in percentiles:\n",
    "    value = np.percentile(avg_scores, p)\n",
    "    print(f\"   {p:2d}th percentile: {value:.2f}\")\n",
    "\n",
    "# 5. Streak Analysis\n",
    "print(f\"\\n🔥 STREAK ANALYSIS:\")\n",
    "print(\"-\" * 40)\n",
    "\n",
    "# Define \"good\" days (score >= 8.0)\n",
    "form_df_sorted['is_good_day'] = form_df_sorted['average_score'] >= 8.0\n",
    "\n",
    "# Calculate streaks\n",
    "current_streak = 0\n",
    "max_good_streak = 0\n",
    "max_bad_streak = 0\n",
    "current_bad_streak = 0\n",
    "streaks = []\n",
    "\n",
    "for good_day in form_df_sorted['is_good_day']:\n",
    "    if good_day:\n",
    "        current_streak += 1\n",
    "        current_bad_streak = 0\n",
    "        max_good_streak = max(max_good_streak, current_streak)\n",
    "    else:\n",
    "        current_bad_streak += 1\n",
    "        current_streak = 0\n",
    "        max_bad_streak = max(max_bad_streak, current_bad_streak)\n",
    "\n",
    "print(f\"🌟 Longest good streak (≥8.0): {max_good_streak} days\")\n",
    "print(f\"⚠️  Longest challenging streak (<8.0): {max_bad_streak} days\")\n",
    "\n",
    "good_days_count = form_df_sorted['is_good_day'].sum()\n",
    "good_days_percentage = (good_days_count / len(form_df_sorted)) * 100\n",
    "print(f\"📈 Total good days: {good_days_count}/{len(form_df_sorted)} ({good_days_percentage:.1f}%)\")\n",
    "\n",
    "# 6. Monthly Performance Rating\n",
    "print(f\"\\n🏆 MONTHLY PERFORMANCE RATINGS:\")\n",
    "print(\"-\" * 40)\n",
    "monthly_ratings = []\n",
    "for month, avg in monthly_avg.items():\n",
    "    if avg >= 9.0:\n",
    "        rating = \"🌟 Outstanding\"\n",
    "    elif avg >= 8.5:\n",
    "        rating = \"🥇 Excellent\"\n",
    "    elif avg >= 8.0:\n",
    "        rating = \"✨ Very Good\"\n",
    "    elif avg >= 7.0:\n",
    "        rating = \"👍 Good\"\n",
    "    elif avg >= 6.0:\n",
    "        rating = \"😐 Average\"\n",
    "    else:\n",
    "        rating = \"⚠️ Needs Attention\"\n",
    "    \n",
    "    print(f\"   {month}: {avg:.2f} {rating}\")\n",
    "\n",
    "# 7. Key Insights Summary\n",
    "print(f\"\\n🎯 KEY INSIGHTS SUMMARY:\")\n",
    "print(\"=\" * 50)\n",
    "print(f\"✨ Overall Performance: {avg_scores.mean():.1f}/10 (Excellent range)\")\n",
    "print(f\"🎯 Consistency: {['Very High', 'High', 'Moderate', 'Low'][min(3, int(avg_scores.std()))]}\")\n",
    "print(f\"📈 Trend: {'Improving' if score_trend > 0 else 'Declining' if score_trend < 0 else 'Stable'}\")\n",
    "print(f\"🏆 Peak Performance: {best_month}\")\n",
    "print(f\"📊 Dominant Category: Excellent Days ({percentages[0]:.1f}%)\")\n",
    "print(f\"⭐ Best Day Type: {best_day}\")\n",
    "print(f\"🔥 Success Rate: {good_days_percentage:.1f}% of days scored ≥8.0\")\n",
    "\n",
    "print(f\"\\n💡 RECOMMENDATIONS:\")\n",
    "print(\"-\" * 30)\n",
    "if weekday_avg.loc[worst_day, 'mean'] < 8.0:\n",
    "    print(f\"🎯 Focus on improving {worst_day} performance\")\n",
    "if weekend_scores.mean() < weekday_scores.mean():\n",
    "    print(f\"🏖️ Consider weekend routine optimization\")\n",
    "if monthly_avg.min() < 7.0:\n",
    "    print(f\"📅 Review and improve strategies for challenging months\")\n",
    "print(f\"🌟 Continue successful patterns from {best_day} and {best_month}\")\n",
    "\n",
    "print(f\"\\n📊 VISUALIZATION SUMMARY:\")\n",
    "print(\"=\" * 30)\n",
    "print(\"✅ Created 4 comprehensive visualizations:\")\n",
    "print(\"   1. 🥧 Pie Chart + Bar Chart: Score distribution\")\n",
    "print(\"   2. 📈 Time Series: Daily trends & monthly patterns\") \n",
    "print(\"   3. 🔥 Heatmaps: Weekday & monthly patterns\")\n",
    "print(\"   4. ⚡ Interactive Dashboard: Multi-dimensional analysis\")\n",
    "print(\"\\n🎉 Analysis Complete! Your data shows excellent overall performance with clear improvement trends.\")"
   ]
  }
 ],
 "metadata": {
  "kernelspec": {
   "display_name": "Python 3",
   "language": "python",
   "name": "python3"
  },
  "language_info": {
   "codemirror_mode": {
    "name": "ipython",
    "version": 3
   },
   "file_extension": ".py",
   "mimetype": "text/x-python",
   "name": "python",
   "nbconvert_exporter": "python",
   "pygments_lexer": "ipython3",
   "version": "3.9.6"
  }
 },
 "nbformat": 4,
 "nbformat_minor": 5
}
